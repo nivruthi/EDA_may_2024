{
 "cells": [
  {
   "cell_type": "markdown",
   "id": "f6a267a8-1b38-4a21-ab58-21873aac0424",
   "metadata": {},
   "source": [
    "## Lambda functions\n",
    "- Lambda functions represents function concept\n",
    "- But we can write in a single line\n",
    "- like **list comprehension**, **lambda functions** similar only\n",
    "- It will **decrease the time complexity**\n",
    "- always remember if we use many **for loops** or **many conditions** using multiple lines **time complexity will increase** "
   ]
  },
  {
   "cell_type": "markdown",
   "id": "eaec587d-ef93-46ff-b8d5-9543cb4a1b8e",
   "metadata": {},
   "source": [
    "**It will use the keyword lambda**\n",
    "lambda <arguments> : <expression>      \n"
   ]
  },
  {
   "cell_type": "code",
   "execution_count": 2,
   "id": "5b9f9299-c929-4a9c-b5e0-ba76f8a00495",
   "metadata": {},
   "outputs": [
    {
     "data": {
      "text/plain": [
       "20"
      ]
     },
     "execution_count": 2,
     "metadata": {},
     "output_type": "execute_result"
    }
   ],
   "source": [
    "def summ(n):\n",
    "    return(n+10)\n",
    "summ(10)    "
   ]
  },
  {
   "cell_type": "markdown",
   "id": "bb332a82-d0ed-48ac-bb17-b7c1650edaf9",
   "metadata": {},
   "source": [
    "### pattern-1"
   ]
  },
  {
   "cell_type": "markdown",
   "id": "fd6a840d-0e11-4caa-b599-b846dc645bb7",
   "metadata": {},
   "source": [
    "**function with only one argument**\n",
    "\n",
    "- function name\n",
    "- argument name\n",
    "- return output\n",
    "    "
   ]
  },
  {
   "cell_type": "code",
   "execution_count": null,
   "id": "7ff1d228-aa5a-4692-8120-926c789b5f59",
   "metadata": {},
   "outputs": [],
   "source": [
    "# syntax:\n",
    "<funtion_name> = lambda <argument_name> : <return output>"
   ]
  },
  {
   "cell_type": "code",
   "execution_count": 10,
   "id": "87dfdd3f-59a0-4b21-b14a-c5b68a843bc4",
   "metadata": {},
   "outputs": [
    {
     "data": {
      "text/plain": [
       "20"
      ]
     },
     "execution_count": 10,
     "metadata": {},
     "output_type": "execute_result"
    }
   ],
   "source": [
    "summ = lambda n:n+10\n",
    "summ(10)\n"
   ]
  },
  {
   "cell_type": "code",
   "execution_count": 12,
   "id": "14da4607-9bbc-42af-b70a-d0b3c444694b",
   "metadata": {},
   "outputs": [
    {
     "data": {
      "text/plain": [
       "1000"
      ]
     },
     "execution_count": 12,
     "metadata": {},
     "output_type": "execute_result"
    }
   ],
   "source": [
    "def cube(n):\n",
    "    return(n**3)\n",
    "cube(10)    "
   ]
  },
  {
   "cell_type": "code",
   "execution_count": 14,
   "id": "7a43aaad-5f7e-433c-8c5b-ab69eecbb952",
   "metadata": {},
   "outputs": [
    {
     "data": {
      "text/plain": [
       "1000"
      ]
     },
     "execution_count": 14,
     "metadata": {},
     "output_type": "execute_result"
    }
   ],
   "source": [
    "cube = lambda n:n**3\n",
    "cube(10)"
   ]
  },
  {
   "cell_type": "markdown",
   "id": "4614d90a-cc60-4cc6-800d-0965daae4c1a",
   "metadata": {},
   "source": [
    "### pattern -2"
   ]
  },
  {
   "cell_type": "code",
   "execution_count": 15,
   "id": "3e8c6494-2dd1-492a-bb22-daa0f8c5056c",
   "metadata": {},
   "outputs": [],
   "source": [
    "# syntax\n",
    "# 2 arguments\n",
    "<funct name> = lambda <argument1>,<argument2>:<return o/p>\n",
    "call the function"
   ]
  },
  {
   "cell_type": "code",
   "execution_count": 17,
   "id": "94d9067f-f546-4726-b450-e5d2859757ab",
   "metadata": {},
   "outputs": [
    {
     "data": {
      "text/plain": [
       "8"
      ]
     },
     "execution_count": 17,
     "metadata": {},
     "output_type": "execute_result"
    }
   ],
   "source": [
    "cube = lambda a,b:a**b\n",
    "cube(2,3)"
   ]
  },
  {
   "cell_type": "code",
   "execution_count": 18,
   "id": "7c237551-e06b-42f3-af4d-9dd2cc68d8c4",
   "metadata": {},
   "outputs": [
    {
     "data": {
      "text/plain": [
       "5"
      ]
     },
     "execution_count": 18,
     "metadata": {},
     "output_type": "execute_result"
    }
   ],
   "source": [
    "add = lambda a,b:a+b\n",
    "add(2,3)"
   ]
  },
  {
   "cell_type": "code",
   "execution_count": 22,
   "id": "49049826-396d-4947-9188-b89a252995d1",
   "metadata": {},
   "outputs": [
    {
     "data": {
      "text/plain": [
       "65"
      ]
     },
     "execution_count": 22,
     "metadata": {},
     "output_type": "execute_result"
    }
   ],
   "source": [
    "avg = lambda a,b,c:round((a+b+c)/3)\n",
    "avg(50,55,90)"
   ]
  },
  {
   "cell_type": "markdown",
   "id": "6649a5e3-31c2-4453-bf4a-706c6db01d5b",
   "metadata": {},
   "source": [
    "### Default aarguments"
   ]
  },
  {
   "cell_type": "code",
   "execution_count": 25,
   "id": "e2060b43-8ae2-4a3a-8fb9-69aa56944f99",
   "metadata": {},
   "outputs": [
    {
     "data": {
      "text/plain": [
       "8"
      ]
     },
     "execution_count": 25,
     "metadata": {},
     "output_type": "execute_result"
    }
   ],
   "source": [
    "def add(a=3,b=5):\n",
    "    return (a+b)\n",
    "add()    "
   ]
  },
  {
   "cell_type": "code",
   "execution_count": 1,
   "id": "011f8b56-c0ea-44a1-9312-58aad29b59ce",
   "metadata": {},
   "outputs": [
    {
     "data": {
      "text/plain": [
       "8"
      ]
     },
     "execution_count": 1,
     "metadata": {},
     "output_type": "execute_result"
    }
   ],
   "source": [
    "add = lambda a=3,b=5:a+b\n",
    "add()"
   ]
  },
  {
   "cell_type": "code",
   "execution_count": 28,
   "id": "3f9ff258-47cb-4aa1-8c2a-5c52bbfee1d7",
   "metadata": {},
   "outputs": [
    {
     "data": {
      "text/plain": [
       "5.67"
      ]
     },
     "execution_count": 28,
     "metadata": {},
     "output_type": "execute_result"
    }
   ],
   "source": [
    "avg = lambda a = 3,b=6,c=8:round((a+b+c)/3,2)\n",
    "avg()"
   ]
  },
  {
   "cell_type": "markdown",
   "id": "8c5323a9-ec09-43fd-8668-4f8a8b173149",
   "metadata": {},
   "source": [
    "### pattern-4\n",
    "\n",
    "### if - else"
   ]
  },
  {
   "cell_type": "code",
   "execution_count": null,
   "id": "eeae0082-b38a-45d2-bad9-18f31010a771",
   "metadata": {},
   "outputs": [],
   "source": [
    "# syntax\n",
    "functname = lamda <arg1>,<arg2> : <if_o/p><if cond><else><else o/p>\n"
   ]
  },
  {
   "cell_type": "code",
   "execution_count": 29,
   "id": "03538df0-878f-4787-8ac2-71d86bda0c96",
   "metadata": {},
   "outputs": [
    {
     "data": {
      "text/plain": [
       "3"
      ]
     },
     "execution_count": 29,
     "metadata": {},
     "output_type": "execute_result"
    }
   ],
   "source": [
    "def max(a,b):\n",
    "    if a>b:\n",
    "        return(a)\n",
    "    else:\n",
    "        return(b)\n",
    "max(2,3)        "
   ]
  },
  {
   "cell_type": "code",
   "execution_count": 31,
   "id": "a7fb2e47-7221-418c-a9a3-7c80973333c8",
   "metadata": {},
   "outputs": [
    {
     "data": {
      "text/plain": [
       "3"
      ]
     },
     "execution_count": 31,
     "metadata": {},
     "output_type": "execute_result"
    }
   ],
   "source": [
    "max = lambda a,b : a if a>b else b \n",
    "max(2,3)"
   ]
  },
  {
   "cell_type": "markdown",
   "id": "c2ecc61e-d05b-407b-b97e-919c34fe1e14",
   "metadata": {},
   "source": [
    "### pattern-5\n",
    "\n",
    "### using list"
   ]
  },
  {
   "cell_type": "code",
   "execution_count": 32,
   "id": "55b76017-faa2-4acb-ac4d-05b7c43b508f",
   "metadata": {},
   "outputs": [],
   "source": [
    "# syntax\n",
    "# lambda <variable> : <o/p>,<iterator>\n",
    "# <iterator> = list"
   ]
  },
  {
   "cell_type": "code",
   "execution_count": 33,
   "id": "735accdc-f770-4309-9b20-88b1bf11795c",
   "metadata": {},
   "outputs": [
    {
     "data": {
      "text/plain": [
       "['Hyd', 'Chennai', 'Mumbai']"
      ]
     },
     "execution_count": 33,
     "metadata": {},
     "output_type": "execute_result"
    }
   ],
   "source": [
    "l = ['hyd','chennai','mumbai']\n",
    "op = []\n",
    "for i in l:\n",
    "    op.append(i.capitalize())\n",
    "op    "
   ]
  },
  {
   "cell_type": "code",
   "execution_count": 39,
   "id": "bdd1e1d5-5741-4d73-8b56-b22d8a329ed6",
   "metadata": {},
   "outputs": [
    {
     "data": {
      "text/plain": [
       "(<function __main__.<lambda>(i)>, ['hyd', 'chennai', 'mumbai'])"
      ]
     },
     "execution_count": 39,
     "metadata": {},
     "output_type": "execute_result"
    }
   ],
   "source": [
    "lambda  i:i.capitalize()\n",
    "# so now we created a function\n",
    "# wher the i is coming from\n",
    "# i is coming from list(l)\n",
    "# so, now include l\n",
    "lambda i : i.capitalize(),l\n",
    "# to map the output to the function\n",
    "# apply map \n",
    "\n"
   ]
  },
  {
   "cell_type": "markdown",
   "id": "d1487543-529e-4e1f-b543-e700ad633a39",
   "metadata": {},
   "source": [
    "### map"
   ]
  },
  {
   "cell_type": "markdown",
   "id": "50896677-5c73-4b60-9b49-c8cb00acc639",
   "metadata": {},
   "source": [
    "### mapping the expression and list "
   ]
  },
  {
   "cell_type": "code",
   "execution_count": null,
   "id": "dd545b5f-fa9e-4352-9f22-2af93437843a",
   "metadata": {},
   "outputs": [],
   "source": [
    "- step-1: normal expression\n",
    "    - lambda i:i.capitalize()\n",
    "- step-2: add the iterator\n",
    "    - lambda i : i.capitalize(),l\n",
    "- step-3: map the both\n",
    "    - map(lambda i : i.capitalize(),l)\n",
    "- step-4: save the value in a list\n",
    "    - list(map(lambda i : i.capitalize(),l))"
   ]
  },
  {
   "cell_type": "code",
   "execution_count": 43,
   "id": "78578d48-1720-4699-97c5-165ca75bcb94",
   "metadata": {},
   "outputs": [
    {
     "data": {
      "text/plain": [
       "<map at 0x1c90e174820>"
      ]
     },
     "execution_count": 43,
     "metadata": {},
     "output_type": "execute_result"
    }
   ],
   "source": [
    "l = ['hyd','chennai','mumbai']\n",
    "map(lambda i : i.capitalize(),l)\n",
    "# it is stored at some location\n",
    "# "
   ]
  },
  {
   "cell_type": "code",
   "execution_count": 44,
   "id": "18d00764-77af-4ec0-846c-1148e2cba970",
   "metadata": {},
   "outputs": [
    {
     "data": {
      "text/plain": [
       "['Hyd', 'Chennai', 'Mumbai']"
      ]
     },
     "execution_count": 44,
     "metadata": {},
     "output_type": "execute_result"
    }
   ],
   "source": [
    "# apply list or for loop \n",
    "list(map(lambda i : i.capitalize(),l))"
   ]
  },
  {
   "cell_type": "code",
   "execution_count": 45,
   "id": "cfff4b36-ad7d-47c9-ba03-5422cf328552",
   "metadata": {},
   "outputs": [
    {
     "data": {
      "text/plain": [
       "['__class__',\n",
       " '__delattr__',\n",
       " '__dir__',\n",
       " '__doc__',\n",
       " '__eq__',\n",
       " '__format__',\n",
       " '__ge__',\n",
       " '__getattribute__',\n",
       " '__getstate__',\n",
       " '__gt__',\n",
       " '__hash__',\n",
       " '__init__',\n",
       " '__init_subclass__',\n",
       " '__iter__',\n",
       " '__le__',\n",
       " '__lt__',\n",
       " '__ne__',\n",
       " '__new__',\n",
       " '__next__',\n",
       " '__reduce__',\n",
       " '__reduce_ex__',\n",
       " '__repr__',\n",
       " '__setattr__',\n",
       " '__sizeof__',\n",
       " '__str__',\n",
       " '__subclasshook__']"
      ]
     },
     "execution_count": 45,
     "metadata": {},
     "output_type": "execute_result"
    }
   ],
   "source": [
    "dir(map)"
   ]
  },
  {
   "cell_type": "code",
   "execution_count": null,
   "id": "2d5e787e-2f41-459f-a711-a7b61bc821c5",
   "metadata": {},
   "outputs": [],
   "source": [
    "- case-1: function call with one argument\n",
    "    - lambda arguments : Expression\n",
    "    - lambda variables : return output\n",
    "- case-2 : function call with 2 arguments\n",
    "    - lambda arg1, arg2 : expression\n",
    "    - lambda var1,var2: return o/p\n",
    "- case-3: lambda operations using default arguments\n",
    "    - lambda arg1, arg2=56 : expression\n",
    "    - lambda var1,var2=89 : return o/p\n",
    "- case-4: Function call with2 arguments and if-else:\n",
    "    - lambda arg1, arg2 : expression\n",
    "    - lambda var1,var2: <if_o/p> <if_cond> <else> <else_o/p> <for_loop>\n",
    "- case-5: Lambda functions using List\n",
    "    - lambda <variable> : expression\n",
    "    - <o/p>,<iterator> : "
   ]
  },
  {
   "cell_type": "code",
   "execution_count": 4,
   "id": "231bee01-6f12-42a5-8b37-8c02c9ea3175",
   "metadata": {},
   "outputs": [
    {
     "data": {
      "text/plain": [
       "('HYD', 'CHENNAI', 'MUMBAI')"
      ]
     },
     "execution_count": 4,
     "metadata": {},
     "output_type": "execute_result"
    }
   ],
   "source": [
    "l = ['hyd', 'chennai', 'mumbai']\n",
    "tuple(map(lambda i : i.upper(),l))"
   ]
  },
  {
   "cell_type": "code",
   "execution_count": 3,
   "id": "98448c4f-e9f1-4617-8c53-c4338d342018",
   "metadata": {},
   "outputs": [
    {
     "ename": "TypeError",
     "evalue": "filter expected 2 arguments, got 1",
     "output_type": "error",
     "traceback": [
      "\u001b[1;31m---------------------------------------------------------------------------\u001b[0m",
      "\u001b[1;31mTypeError\u001b[0m                                 Traceback (most recent call last)",
      "Cell \u001b[1;32mIn[3], line 1\u001b[0m\n\u001b[1;32m----> 1\u001b[0m eo\u001b[38;5;241m=\u001b[39m \u001b[38;5;28mlist\u001b[39m(\u001b[38;5;28;43mfilter\u001b[39;49m\u001b[43m(\u001b[49m\u001b[38;5;28;43;01mlambda\u001b[39;49;00m\u001b[43m \u001b[49m\u001b[43mi\u001b[49m\u001b[43m:\u001b[49m\u001b[43m \u001b[49m\u001b[38;5;124;43mf\u001b[39;49m\u001b[38;5;124;43m\"\u001b[39;49m\u001b[38;5;132;43;01m{\u001b[39;49;00m\u001b[43mi\u001b[49m\u001b[38;5;132;43;01m}\u001b[39;49;00m\u001b[38;5;124;43m is even\u001b[39;49m\u001b[38;5;124;43m\"\u001b[39;49m\u001b[43m \u001b[49m\u001b[38;5;28;43;01mif\u001b[39;49;00m\u001b[43m \u001b[49m\u001b[43mi\u001b[49m\u001b[38;5;241;43m%\u001b[39;49m\u001b[38;5;241;43m2\u001b[39;49m\u001b[38;5;241;43m==\u001b[39;49m\u001b[38;5;241;43m0\u001b[39;49m\u001b[43m \u001b[49m\u001b[38;5;28;43;01melse\u001b[39;49;00m\u001b[43m \u001b[49m\u001b[38;5;124;43mf\u001b[39;49m\u001b[38;5;124;43m\"\u001b[39;49m\u001b[38;5;132;43;01m{\u001b[39;49;00m\u001b[43mi\u001b[49m\u001b[38;5;132;43;01m}\u001b[39;49;00m\u001b[38;5;124;43m is odd\u001b[39;49m\u001b[38;5;124;43m\"\u001b[39;49m\u001b[43m \u001b[49m\u001b[38;5;28;43;01mfor\u001b[39;49;00m\u001b[43m \u001b[49m\u001b[43mi\u001b[49m\u001b[43m \u001b[49m\u001b[38;5;129;43;01min\u001b[39;49;00m\u001b[43m \u001b[49m\u001b[38;5;28;43mrange\u001b[39;49m\u001b[43m(\u001b[49m\u001b[38;5;241;43m10\u001b[39;49m\u001b[43m)\u001b[49m\u001b[43m)\u001b[49m)\n\u001b[0;32m      2\u001b[0m eo\n",
      "\u001b[1;31mTypeError\u001b[0m: filter expected 2 arguments, got 1"
     ]
    }
   ],
   "source": [
    "eo= list(filter(lambda i: f\"{i} is even\" if i%2==0 else f\"{i} is odd\" for i in range(10)))\n",
    "eo"
   ]
  },
  {
   "cell_type": "code",
   "execution_count": 4,
   "id": "32a6ea8b-8f57-46ce-9ac0-3aba11960f36",
   "metadata": {},
   "outputs": [
    {
     "name": "stdout",
     "output_type": "stream",
     "text": [
      "['0 is even', '1 is odd', '2 is even', '3 is odd', '4 is even', '5 is odd', '6 is even', '7 is odd', '8 is even', '9 is odd']\n"
     ]
    }
   ],
   "source": [
    "eo_lambda = lambda i: f\"{i} is even\" if i % 2 == 0 else f\"{i} is odd\"\n",
    "eo = [eo_lambda(i) for i in range(10)]\n",
    "print(eo)\n"
   ]
  },
  {
   "cell_type": "markdown",
   "id": "853281e5-7b2f-4ef0-8955-4be7885c85de",
   "metadata": {},
   "source": [
    "## Filter\n",
    "\n",
    "- whenever **if conditions** are their use **filter**"
   ]
  },
  {
   "cell_type": "code",
   "execution_count": null,
   "id": "4a3d2bae-c473-4555-b454-a45bafdc0760",
   "metadata": {},
   "outputs": [],
   "source": [
    "l = ['hyd', 'chen#nai', 'mu#mbai','blr']\n",
    "for i in "
   ]
  },
  {
   "cell_type": "code",
   "execution_count": 14,
   "id": "ab78b2fa-5792-4a41-b455-bf4c897a2ce7",
   "metadata": {},
   "outputs": [
    {
     "data": {
      "text/plain": [
       "(False, True, True, False)"
      ]
     },
     "execution_count": 14,
     "metadata": {},
     "output_type": "execute_result"
    }
   ],
   "source": [
    "l = ['hyd', 'chen#nai', 'mu#mbai','blr']\n",
    "tuple(map(lambda i:'#' in i ,l)) \n",
    "# mistake -1 :tuple(map(lambda i : if '#' in i, l))\n",
    "#     donot write if"
   ]
  },
  {
   "cell_type": "code",
   "execution_count": 16,
   "id": "7348ac77-aef1-416a-8289-3139bd566ca9",
   "metadata": {},
   "outputs": [
    {
     "data": {
      "text/plain": [
       "('chen#nai', 'mu#mbai')"
      ]
     },
     "execution_count": 16,
     "metadata": {},
     "output_type": "execute_result"
    }
   ],
   "source": [
    "tuple(filter(lambda i:'#' in i ,l)) "
   ]
  },
  {
   "cell_type": "code",
   "execution_count": 19,
   "id": "571329e2-e276-44da-9dfd-85cc8415de49",
   "metadata": {},
   "outputs": [
    {
     "data": {
      "text/plain": [
       "(2, 6)"
      ]
     },
     "execution_count": 19,
     "metadata": {},
     "output_type": "execute_result"
    }
   ],
   "source": [
    "n = [1,3,2,7,6]\n",
    "tuple(filter(lambda i:i%2==0,n))"
   ]
  },
  {
   "cell_type": "markdown",
   "id": "198b1835-86f9-41ff-8626-bf20ada3e6e7",
   "metadata": {},
   "source": [
    "## Reduce\n",
    "- It is used to when **sum of numbers** \n",
    "- max(l1),min(l1),len(l1),sum(l1)\n",
    "- for all these keywords **reduce** is used\n",
    "\n",
    "- All inbuilt functions  can acheive by **Reduce**\n",
    "- Reduce is available from **functtools** package\n",
    "- **level-1** : reduce(lambda summ,i: summ+i, l1)\n",
    "- **level-2** : filter(lambda summ,i : summ+i,l1, initial_value)\n",
    "- for example we wantto intialize **summ=0** then we choose **level-1**\n",
    "- for example we wantto **start with other** than then we choose **level-2**"
   ]
  },
  {
   "cell_type": "code",
   "execution_count": 28,
   "id": "5f703a2e-c8a9-439a-8ccf-894140cd6e2e",
   "metadata": {},
   "outputs": [
    {
     "ename": "TypeError",
     "evalue": "<lambda>() missing 1 required positional argument: 'sum'",
     "output_type": "error",
     "traceback": [
      "\u001b[1;31m---------------------------------------------------------------------------\u001b[0m",
      "\u001b[1;31mTypeError\u001b[0m                                 Traceback (most recent call last)",
      "Cell \u001b[1;32mIn[28], line 8\u001b[0m\n\u001b[0;32m      1\u001b[0m l1 \u001b[38;5;241m=\u001b[39m [\u001b[38;5;241m1\u001b[39m,\u001b[38;5;241m2\u001b[39m,\u001b[38;5;241m3\u001b[39m,\u001b[38;5;241m4\u001b[39m,\u001b[38;5;241m5\u001b[39m]\n\u001b[0;32m      3\u001b[0m \u001b[38;5;66;03m# i want sum of the list\u001b[39;00m\n\u001b[0;32m      4\u001b[0m \u001b[38;5;66;03m# method -1: sum(l1)\u001b[39;00m\n\u001b[0;32m      5\u001b[0m \u001b[38;5;66;03m# method-2: intialization\u001b[39;00m\n\u001b[0;32m      6\u001b[0m \u001b[38;5;66;03m#   sum = 0 sum = sum+i\u001b[39;00m\n\u001b[1;32m----> 8\u001b[0m \u001b[38;5;28;43mtuple\u001b[39;49m\u001b[43m(\u001b[49m\u001b[38;5;28;43mmap\u001b[39;49m\u001b[43m(\u001b[49m\u001b[38;5;28;43;01mlambda\u001b[39;49;00m\u001b[43m \u001b[49m\u001b[43mi\u001b[49m\u001b[43m,\u001b[49m\u001b[38;5;28;43msum\u001b[39;49m\u001b[43m \u001b[49m\u001b[43m:\u001b[49m\u001b[43m \u001b[49m\u001b[38;5;28;43msum\u001b[39;49m\u001b[38;5;241;43m+\u001b[39;49m\u001b[43mi\u001b[49m\u001b[43m,\u001b[49m\u001b[43ml1\u001b[49m\u001b[43m)\u001b[49m\u001b[43m)\u001b[49m\n",
      "\u001b[1;31mTypeError\u001b[0m: <lambda>() missing 1 required positional argument: 'sum'"
     ]
    }
   ],
   "source": [
    "l1 = [1,2,3,4,5]\n",
    "\n",
    "# i want sum of the list\n",
    "# method -1: sum(l1)\n",
    "# method-2: intialization\n",
    "#   sum = 0 sum = sum+i\n",
    "\n",
    "tuple(map(lambda i,sum : sum+i,l1))"
   ]
  },
  {
   "cell_type": "code",
   "execution_count": 33,
   "id": "d10ddcca-2092-4c08-874c-531832991388",
   "metadata": {},
   "outputs": [],
   "source": [
    "import functools as ft\n",
    "from functools import reduce"
   ]
  },
  {
   "cell_type": "code",
   "execution_count": 38,
   "id": "41957039-42e7-4209-8acf-750a3f769aa7",
   "metadata": {},
   "outputs": [
    {
     "data": {
      "text/plain": [
       "15"
      ]
     },
     "execution_count": 38,
     "metadata": {},
     "output_type": "execute_result"
    }
   ],
   "source": [
    "functools.reduce(lambda i,sum: sum+i,l1)"
   ]
  },
  {
   "cell_type": "code",
   "execution_count": 37,
   "id": "a9899439-7c35-499d-bac9-93af70aaa9a5",
   "metadata": {},
   "outputs": [
    {
     "data": {
      "text/plain": [
       "20"
      ]
     },
     "execution_count": 37,
     "metadata": {},
     "output_type": "execute_result"
    }
   ],
   "source": [
    "ft.reduce(lambda i,sum: sum+i,l1,5)"
   ]
  },
  {
   "cell_type": "markdown",
   "id": "735c873b-b036-4bdf-81ee-fc13039cf08e",
   "metadata": {},
   "source": [
    "## Explore the reduce"
   ]
  },
  {
   "cell_type": "code",
   "execution_count": null,
   "id": "185bf7f9-06b4-4d9f-891b-a27f03278778",
   "metadata": {},
   "outputs": [],
   "source": [
    "import functools\n",
    "l1 = [1,2,3,4,5]\n",
    "functools.reduce(lambda i ,sum: sum+i,l1)\n",
    "\n",
    "from functools import reduce\n",
    "reduce(lambda i ,sum: sum+i,l1)\n",
    "\n",
    "import functools as ft\n",
    "ft.reduce(lambda i ,sum: sum+i,l1)\n"
   ]
  },
  {
   "cell_type": "code",
   "execution_count": 39,
   "id": "2f576e6c-b1fa-45e8-a8f0-4e03320a1e24",
   "metadata": {},
   "outputs": [
    {
     "data": {
      "text/plain": [
       "120"
      ]
     },
     "execution_count": 39,
     "metadata": {},
     "output_type": "execute_result"
    }
   ],
   "source": [
    "functools.reduce(lambda i,mul: mul*i,l1)"
   ]
  },
  {
   "cell_type": "code",
   "execution_count": 47,
   "id": "1f34e93b-b9c0-47cf-bf6f-1cc1d9dd53dc",
   "metadata": {},
   "outputs": [
    {
     "ename": "SyntaxError",
     "evalue": "incomplete input (2686739722.py, line 1)",
     "output_type": "error",
     "traceback": [
      "\u001b[1;36m  Cell \u001b[1;32mIn[47], line 1\u001b[1;36m\u001b[0m\n\u001b[1;33m    tuple(map(functools.reduce(lambda x,y: x>y,l1))\u001b[0m\n\u001b[1;37m                                                   ^\u001b[0m\n\u001b[1;31mSyntaxError\u001b[0m\u001b[1;31m:\u001b[0m incomplete input\n"
     ]
    }
   ],
   "source": [
    "tuple(map(functools.reduce(lambda x,y: x>y,l1))"
   ]
  },
  {
   "cell_type": "code",
   "execution_count": 46,
   "id": "26d836d2-d8ff-410c-8e79-2bbcffcd2952",
   "metadata": {},
   "outputs": [
    {
     "data": {
      "text/plain": [
       "<module 'functools' from 'C:\\\\Users\\\\Nivruthi\\\\anaconda3\\\\Lib\\\\functools.py'>"
      ]
     },
     "execution_count": 46,
     "metadata": {},
     "output_type": "execute_result"
    }
   ],
   "source": [
    "import functools\n",
    "functools"
   ]
  },
  {
   "cell_type": "code",
   "execution_count": null,
   "id": "ac5ffe40-cf26-4d79-bca1-6accde2534b2",
   "metadata": {},
   "outputs": [],
   "source": [
    "# map : directatteck\n",
    "# reduce: inbuiltfunctions some intialization\n",
    "# filetr: if condition\n",
    "# word document\n"
   ]
  },
  {
   "cell_type": "code",
   "execution_count": 5,
   "id": "8e6d1344-fd0c-4bf2-bdf7-80c5b3cd0edc",
   "metadata": {},
   "outputs": [
    {
     "data": {
      "text/plain": [
       "[' 0 is even',\n",
       " ' 1 is odd',\n",
       " ' 2 is even',\n",
       " ' 3 is odd',\n",
       " ' 4 is even',\n",
       " ' 5 is odd',\n",
       " ' 6 is even',\n",
       " ' 7 is odd',\n",
       " ' 8 is even',\n",
       " ' 9 is odd']"
      ]
     },
     "execution_count": 5,
     "metadata": {},
     "output_type": "execute_result"
    }
   ],
   "source": [
    "# even or odd\n",
    "# list compreh\n",
    "[f\" {i} is even\" if i%2==0 else f\" {i} is odd\" for i in range(10)]"
   ]
  },
  {
   "cell_type": "code",
   "execution_count": 11,
   "id": "bda1a8c7-7657-44a8-81a1-214dfa87d9da",
   "metadata": {},
   "outputs": [
    {
     "name": "stdout",
     "output_type": "stream",
     "text": [
      "<function <lambda> at 0x000001FF2D94BD80>\n",
      "[' 0 is even', ' 1 is odd', ' 2 is even', ' 3 is odd', ' 4 is even', ' 5 is odd', ' 6 is even', ' 7 is odd', ' 8 is even', ' 9 is odd']\n"
     ]
    }
   ],
   "source": [
    "# lambda\n",
    "eo = lambda i : f\" {i} is even\" if i%2==0 else f\" {i} is odd\" \n",
    "eo_lam = [eo(i) for i in range(10)]\n",
    "print(eo)\n",
    "print(eo_lam)"
   ]
  },
  {
   "cell_type": "code",
   "execution_count": null,
   "id": "bd4889f0-efd2-405d-9146-1934a4717f71",
   "metadata": {},
   "outputs": [],
   "source": []
  }
 ],
 "metadata": {
  "kernelspec": {
   "display_name": "Python 3 (ipykernel)",
   "language": "python",
   "name": "python3"
  },
  "language_info": {
   "codemirror_mode": {
    "name": "ipython",
    "version": 3
   },
   "file_extension": ".py",
   "mimetype": "text/x-python",
   "name": "python",
   "nbconvert_exporter": "python",
   "pygments_lexer": "ipython3",
   "version": "3.11.7"
  }
 },
 "nbformat": 4,
 "nbformat_minor": 5
}

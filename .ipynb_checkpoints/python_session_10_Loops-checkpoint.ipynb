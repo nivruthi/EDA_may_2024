{
 "cells": [
  {
   "cell_type": "markdown",
   "id": "99782209-459d-4fce-904e-35705918a21e",
   "metadata": {},
   "source": [
    "### LOOPS:"
   ]
  },
  {
   "cell_type": "markdown",
   "id": "b63db999-7b90-486c-9536-06283eb4ca88",
   "metadata": {},
   "source": [
    "- iterate a piece of code until the condition satisfy\n",
    "- we can run a code normally\n",
    "- we can run a code by using function wrapper(functions)\n",
    "- we can run a code multiple times(loops)\n",
    "- we can run a code by using conditions(conditions)"
   ]
  },
  {
   "cell_type": "code",
   "execution_count": 60,
   "id": "63e9300e-cd80-42c4-b978-326d7e71e437",
   "metadata": {},
   "outputs": [
    {
     "name": "stdout",
     "output_type": "stream",
     "text": [
      "30\n"
     ]
    }
   ],
   "source": [
    "a= 10\n",
    "b =20\n",
    "c = a+b\n",
    "print(c)"
   ]
  },
  {
   "cell_type": "code",
   "execution_count": 1,
   "id": "ee655443-c632-4225-9177-f6f554eaba9f",
   "metadata": {},
   "outputs": [
    {
     "data": {
      "text/plain": [
       "47"
      ]
     },
     "execution_count": 1,
     "metadata": {},
     "output_type": "execute_result"
    }
   ],
   "source": [
    "a = 23\n",
    "b = 24\n",
    "c = a+b\n",
    "c"
   ]
  },
  {
   "cell_type": "code",
   "execution_count": 61,
   "id": "8c404226-c2e9-4f47-9e21-f4842c126a92",
   "metadata": {},
   "outputs": [
    {
     "name": "stdout",
     "output_type": "stream",
     "text": [
      "30\n"
     ]
    }
   ],
   "source": [
    "if True :\n",
    "    a= 10\n",
    "    b =20\n",
    "    c = a+b\n",
    "    print(c)\n",
    "    "
   ]
  },
  {
   "cell_type": "code",
   "execution_count": 62,
   "id": "a231d684-0020-4d82-a3ac-2280213c8434",
   "metadata": {},
   "outputs": [
    {
     "name": "stdout",
     "output_type": "stream",
     "text": [
      "30\n"
     ]
    }
   ],
   "source": [
    "def sum():\n",
    "    a= 10\n",
    "    b =20\n",
    "    c = a+b\n",
    "    print(c)\n",
    "sum()    "
   ]
  },
  {
   "cell_type": "markdown",
   "id": "e13375a4-ad92-4d97-95de-0dcfcbbead1f",
   "metadata": {},
   "source": [
    "- for loop\n",
    "- while loop\n",
    "- any loop\n",
    "    - intial point to start the loop\n",
    "    - increment or decrement\n",
    "    - condition to stop the loop "
   ]
  },
  {
   "cell_type": "markdown",
   "id": "21eed197-a0c7-49c0-bcf0-5db13e32bdeb",
   "metadata": {},
   "source": [
    "### For loop\n",
    "\n",
    "$pattern-1$\n",
    "\n",
    "**range(stop)**"
   ]
  },
  {
   "cell_type": "code",
   "execution_count": 122,
   "id": "f6b4e8c7-d48f-4c46-a10c-782d76fd35f8",
   "metadata": {},
   "outputs": [
    {
     "name": "stdout",
     "output_type": "stream",
     "text": [
      "0\n",
      "1\n",
      "2\n"
     ]
    }
   ],
   "source": [
    "for i in range(3):\n",
    "    print(i)"
   ]
  },
  {
   "cell_type": "code",
   "execution_count": 124,
   "id": "0e351994-73ba-46ca-97f9-e2cba295a4a7",
   "metadata": {},
   "outputs": [
    {
     "name": "stdout",
     "output_type": "stream",
     "text": [
      "hi\n",
      "hi\n",
      "hi\n",
      "hi\n",
      "hi\n",
      "hi\n"
     ]
    }
   ],
   "source": [
    "for i in range(6):\n",
    "    print(\"hi\")"
   ]
  },
  {
   "cell_type": "code",
   "execution_count": 1,
   "id": "da75c0b3-a703-46eb-ac5f-cd4641156f92",
   "metadata": {},
   "outputs": [
    {
     "name": "stdin",
     "output_type": "stream",
     "text": [
      " 2\n"
     ]
    },
    {
     "name": "stdout",
     "output_type": "stream",
     "text": [
      "4\n"
     ]
    },
    {
     "name": "stdin",
     "output_type": "stream",
     "text": [
      " 3\n"
     ]
    },
    {
     "name": "stdout",
     "output_type": "stream",
     "text": [
      "9\n"
     ]
    },
    {
     "name": "stdin",
     "output_type": "stream",
     "text": [
      " 4\n"
     ]
    },
    {
     "name": "stdout",
     "output_type": "stream",
     "text": [
      "16\n"
     ]
    }
   ],
   "source": [
    "# 4q) wap ask the user enter a num 3 times find the square of the num\n",
    "\n",
    "for i in range(3):\n",
    "    num = eval(input())\n",
    "    print(num*num)\n",
    "    "
   ]
  },
  {
   "cell_type": "code",
   "execution_count": 127,
   "id": "7309d8f5-7688-49e3-8370-f27bd7b28a89",
   "metadata": {},
   "outputs": [
    {
     "name": "stdout",
     "output_type": "stream",
     "text": [
      "the num is : 14\n",
      "the number is even\n",
      "the num is : 19\n",
      " the num is odd\n",
      "the num is : 16\n",
      "the number is even\n"
     ]
    }
   ],
   "source": [
    "# For example\n",
    "# take a random number between  1 to 100\n",
    "# print it is a even number and odd number\n",
    "# you need to generate 3 random number\n",
    "for i in range(3):\n",
    "    number = random.randint(1,100)\n",
    "    print(f\"the num is : {number}\")\n",
    "    if number%2==0:\n",
    "        print(\"the number is even\")\n",
    "    else:\n",
    "        print(\" the num is odd\")\n"
   ]
  },
  {
   "cell_type": "code",
   "execution_count": 128,
   "id": "562aecfc-495e-447f-9e44-c93693ee3a13",
   "metadata": {},
   "outputs": [
    {
     "name": "stdout",
     "output_type": "stream",
     "text": [
      "0 1 2 3 4 "
     ]
    }
   ],
   "source": [
    "for i in range(5):\n",
    "    print(i, end = ' ')"
   ]
  },
  {
   "cell_type": "markdown",
   "id": "6b22db63-70ea-4e86-8c6e-fe961b854365",
   "metadata": {},
   "source": [
    "$pattern-2$\n",
    "\n",
    "**range(strat, stop)**"
   ]
  },
  {
   "cell_type": "code",
   "execution_count": null,
   "id": "bd498672-a61a-43d8-b9ac-0513090675bf",
   "metadata": {},
   "outputs": [],
   "source": [
    "range(10,20)\n",
    "# start value = 10\n",
    "#stop = 10-1 = 9"
   ]
  },
  {
   "cell_type": "code",
   "execution_count": 129,
   "id": "9dd01370-e10c-4659-9c1b-99d82e203617",
   "metadata": {},
   "outputs": [
    {
     "name": "stdout",
     "output_type": "stream",
     "text": [
      "10 11 12 13 14 15 16 17 18 19 "
     ]
    }
   ],
   "source": [
    "for i in range(10,20):\n",
    "    print(i ,end = ' ')"
   ]
  },
  {
   "cell_type": "code",
   "execution_count": 132,
   "id": "346c469b-a28a-4fe5-a2ea-5e5be39c076e",
   "metadata": {},
   "outputs": [
    {
     "name": "stdout",
     "output_type": "stream",
     "text": [
      "the squre of 20:400\n",
      "the squre of 21:441\n",
      "the squre of 22:484\n",
      "the squre of 23:529\n",
      "the squre of 24:576\n"
     ]
    }
   ],
   "source": [
    "# wap ask the user print the square of the number between\n",
    "# 20 to 25\n",
    "for i in range(20,25):\n",
    "     a = i*i\n",
    "     print(f\"the squre of {i}:{a}\")"
   ]
  },
  {
   "cell_type": "code",
   "execution_count": 134,
   "id": "e71b751a-a6a1-42d4-814c-7fdca9d2a124",
   "metadata": {},
   "outputs": [
    {
     "name": "stdout",
     "output_type": "stream",
     "text": [
      "the 10 is even\n",
      "the 11 is odd\n",
      "the 12 is even\n",
      "the 13 is odd\n",
      "the 14 is even\n",
      "the 15 is odd\n",
      "the 16 is even\n",
      "the 17 is odd\n",
      "the 18 is even\n",
      "the 19 is odd\n"
     ]
    }
   ],
   "source": [
    "# wap ask the user print the number is even or odd between 10 to 20\n",
    "for i in range(10,20):\n",
    "    if i%2==0:\n",
    "        print(f\"the {i} is even\")\n",
    "    else:\n",
    "        print(f\"the {i} is odd\")"
   ]
  },
  {
   "cell_type": "markdown",
   "id": "a3c1d1a6-9bfe-48e4-9bdc-cee3f9d3d43a",
   "metadata": {},
   "source": [
    "$pattern-3$\n",
    "\n",
    "**range(start,stop,step)**\n",
    " - start value = start values\n",
    " - step value\n",
    "    - positive step\n",
    "        - if step value is positive : increment\n",
    "        - lat value == stop-1\n",
    "    - negative step\n",
    "        - if step value is negative : decrement\n",
    "        - lastval == stop+1\n"
   ]
  },
  {
   "cell_type": "raw",
   "id": "9a459cf8-b902-42c7-b67d-4bd3a55c8ef1",
   "metadata": {},
   "source": []
  },
  {
   "cell_type": "code",
   "execution_count": 137,
   "id": "a92de4c8-4bdd-4be4-8261-d9ee54b4f041",
   "metadata": {},
   "outputs": [],
   "source": [
    "for i in range(20,2,2):\n",
    "    print(i)\n",
    "# strat = 20\n",
    "# stop = 2-1 = 1\n",
    "# postive = 2\n",
    "\n",
    "# acoording to graph it si not possible so no answer \n"
   ]
  },
  {
   "cell_type": "code",
   "execution_count": 140,
   "id": "5462ea85-9537-4a83-8ede-398e970e2bd0",
   "metadata": {},
   "outputs": [
    {
     "name": "stdout",
     "output_type": "stream",
     "text": [
      "2\n",
      "4\n",
      "6\n",
      "8\n",
      "10\n",
      "12\n",
      "14\n",
      "16\n",
      "18\n"
     ]
    }
   ],
   "source": [
    "for i in range(2,20,2):\n",
    "    print(i)"
   ]
  },
  {
   "cell_type": "code",
   "execution_count": 141,
   "id": "247b5499-2b45-4528-a645-93be33e52b93",
   "metadata": {},
   "outputs": [],
   "source": [
    "for i in range(2,20,-2):\n",
    "    print(i) # noanswer\n"
   ]
  },
  {
   "cell_type": "markdown",
   "id": "19ca846a-be5a-4d03-af1d-3322afcb4ec5",
   "metadata": {},
   "source": [
    "## CASES:"
   ]
  },
  {
   "cell_type": "code",
   "execution_count": 147,
   "id": "28105bc7-ac2f-493f-adee-2e63e9fd900d",
   "metadata": {},
   "outputs": [
    {
     "name": "stdout",
     "output_type": "stream",
     "text": [
      "2 4 6 8 10 12 14 16 18 "
     ]
    }
   ],
   "source": [
    "# CASE - 1:\n",
    "\n",
    "for i in range(2,20,2):\n",
    "     print(i, end= ' ')"
   ]
  },
  {
   "cell_type": "code",
   "execution_count": 149,
   "id": "624e19c1-440f-4b11-82e6-0c8f3cff2b0a",
   "metadata": {},
   "outputs": [],
   "source": [
    "# case-2:\n",
    "for i in range(2,20,-2):\n",
    "    print(i ,end= ' ') # no answer"
   ]
  },
  {
   "cell_type": "code",
   "execution_count": 151,
   "id": "25d455cc-f2a7-4dd1-873b-7bf2fda0726f",
   "metadata": {},
   "outputs": [
    {
     "name": "stdin",
     "output_type": "stream",
     "text": [
      " 14\n"
     ]
    },
    {
     "name": "stdout",
     "output_type": "stream",
     "text": [
      "14x1 = 14\n",
      "14x2 = 28\n",
      "14x3 = 42\n",
      "14x4 = 56\n",
      "14x5 = 70\n",
      "14x6 = 84\n",
      "14x7 = 98\n",
      "14x8 = 112\n",
      "14x9 = 126\n",
      "14x10 = 140\n"
     ]
    }
   ],
   "source": [
    "num = eval(input())\n",
    "for i in range(1,11):\n",
    "    mul= i*num\n",
    "    print(f\"{num}x{i} = {mul}\")"
   ]
  },
  {
   "cell_type": "code",
   "execution_count": 8,
   "id": "2c8d7edc-0050-48a6-aba4-8fdc07ba81e2",
   "metadata": {},
   "outputs": [
    {
     "name": "stdin",
     "output_type": "stream",
     "text": [
      " enter thetable: 14\n"
     ]
    },
    {
     "name": "stdout",
     "output_type": "stream",
     "text": [
      "14x1=14\n",
      "14x2=28\n",
      "14x3=42\n",
      "14x4=56\n",
      "14x5=70\n",
      "14x6=84\n",
      "14x7=98\n",
      "14x8=112\n",
      "14x9=126\n",
      "14x10=140\n"
     ]
    }
   ],
   "source": [
    "# 5Q) print the 14th table \n",
    "# ans: 14*1 = 14\n",
    "val = eval(input(\" enter thetable:\"))\n",
    "for i in range(1,11):\n",
    "    num = val*i\n",
    "    print(f\"{val}x{i}={num}\")"
   ]
  },
  {
   "cell_type": "code",
   "execution_count": 153,
   "id": "05a9aea9-2d4c-4711-92fe-8256fe4260f2",
   "metadata": {},
   "outputs": [
    {
     "name": "stdout",
     "output_type": "stream",
     "text": [
      "55\n"
     ]
    }
   ],
   "source": [
    "# 7Q) write the sum of first 10 natural no.s\n",
    "sum = 0\n",
    "for i in range(1,11):\n",
    "    sum = sum + i\n",
    "print(sum)\n",
    "    "
   ]
  },
  {
   "cell_type": "code",
   "execution_count": 157,
   "id": "2e9cc9f2-596a-46be-b7cb-c95ab53d50f5",
   "metadata": {},
   "outputs": [
    {
     "name": "stdout",
     "output_type": "stream",
     "text": [
      "0+0=0\n",
      "0+1=1\n",
      "1+2=3\n",
      "3+3=6\n",
      "6+4=10\n",
      "10+5=15\n",
      "15+6=21\n",
      "21+7=28\n",
      "28+8=36\n",
      "36+9=45\n",
      "45+10=55\n"
     ]
    }
   ],
   "source": [
    "# 7Q) write the sum of first 10 natural no.s\n",
    "#i want in format \n",
    "#0+1 = 1\n",
    "#1+1=2\n",
    "#2+1 =3\n",
    "\n",
    "sum = 0\n",
    "for i in range(11):\n",
    "    sum = sum + i\n",
    "    print(f\"{sum-i}+{i}={sum}\")\n",
    "    "
   ]
  },
  {
   "cell_type": "code",
   "execution_count": 11,
   "id": "82f459bd-5d6d-4515-ae76-41d4e2be7df7",
   "metadata": {},
   "outputs": [
    {
     "name": "stdin",
     "output_type": "stream",
     "text": [
      "enter the number : 75\n"
     ]
    },
    {
     "name": "stdout",
     "output_type": "stream",
     "text": [
      "roots of 75 is: 1\n",
      "roots of 75 is: 3\n",
      "roots of 75 is: 5\n",
      "roots of 75 is: 15\n",
      "roots of 75 is: 25\n",
      "roots of 75 is: 75\n"
     ]
    }
   ],
   "source": [
    "# 6Q) find the factors of 75\n",
    "\n",
    "n = eval(input(\"enter the number :\"))\n",
    "for i in range(1,n+1):\n",
    "    if n%i==0:\n",
    "        print(f\"roots of {n} is: {i}\")\n",
    "    "
   ]
  },
  {
   "cell_type": "code",
   "execution_count": null,
   "id": "c33b8ecf-3742-41dd-8f5a-8cf413d2e2ba",
   "metadata": {},
   "outputs": [],
   "source": [
    "# 7Q) write the sum of first 10 natural no.s\n",
    "m = eval(input())\n",
    "for i in range(1,11):\n",
    "    sum = m(m+1)/2\n",
    "    print(\n"
   ]
  },
  {
   "cell_type": "markdown",
   "id": "8427253a-8c1f-491a-a341-cee1b8c91168",
   "metadata": {},
   "source": [
    "### Summation wrapper:\n",
    "- initially we nned to keep summ=0\n",
    "- make sure that do not provide summ\n",
    "- because sum "
   ]
  },
  {
   "cell_type": "code",
   "execution_count": 31,
   "id": "b3a870e4-5cc3-4745-8855-b657ab513528",
   "metadata": {},
   "outputs": [
    {
     "name": "stdout",
     "output_type": "stream",
     "text": [
      "0+0=0\n",
      "0+1=1\n",
      "1+2=3\n",
      "3+3=6\n",
      "6+4=10\n",
      "10+5=15\n",
      "15+6=21\n",
      "21+7=28\n",
      "28+8=36\n",
      "36+9=45\n",
      "45+10=55\n"
     ]
    }
   ],
   "source": [
    "s=0\n",
    "for i in range(11):\n",
    "    val = s\n",
    "    s = s+i\n",
    "    print(f\"{val}+{i}={s}\")"
   ]
  },
  {
   "cell_type": "code",
   "execution_count": 57,
   "id": "5bfa5c9c-3178-4b47-aa01-20de0587806b",
   "metadata": {},
   "outputs": [
    {
     "name": "stdout",
     "output_type": "stream",
     "text": [
      "0 + 1 = 1\n",
      "1 + 2 = 3\n",
      "3 + 3 = 6\n",
      "6 + 4 = 10\n",
      "10 + 5 = 15\n",
      "15 + 6 = 21\n",
      "21 + 7 = 28\n",
      "28 + 8 = 36\n",
      "36 + 9 = 45\n",
      "45 + 10 = 55\n"
     ]
    }
   ],
   "source": [
    "s= 0\n",
    "for i in range(1,11):\n",
    "    s = s+ i\n",
    "    print(f\"{s-i} + {i} = {s}\")"
   ]
  },
  {
   "cell_type": "markdown",
   "id": "4f3ee21e-bee9-4c3a-b48d-027e403d5c06",
   "metadata": {},
   "source": [
    "### NOTE\n"
   ]
  },
  {
   "cell_type": "markdown",
   "id": "88608cae-a937-4ab2-b489-5fd9c630b84a",
   "metadata": {},
   "source": [
    "- if we print answer from out of for loop last answer will print"
   ]
  },
  {
   "cell_type": "code",
   "execution_count": 34,
   "id": "0acd52c8-2e79-4e1e-b03e-4ba54b61c6e1",
   "metadata": {},
   "outputs": [
    {
     "name": "stdout",
     "output_type": "stream",
     "text": [
      "55\n"
     ]
    }
   ],
   "source": [
    "sum = 0\n",
    "for i in range(1,11):\n",
    "    sum = sum + i\n",
    "print(sum)    "
   ]
  },
  {
   "cell_type": "code",
   "execution_count": 38,
   "id": "364af19f-44f4-4672-bba2-be8cc3259225",
   "metadata": {},
   "outputs": [
    {
     "name": "stdout",
     "output_type": "stream",
     "text": [
      "sum of 10 naturalno.s = 55\n",
      "AVerage =  5.5\n"
     ]
    }
   ],
   "source": [
    "# 8Q) avg of first 10 natural no.s\n",
    "sum = 0\n",
    "for i in range(1,11):\n",
    "    sum = sum + i\n",
    "print(\"sum of 10 naturalno.s =\",sum)    \n",
    "print(\"AVerage = \",sum/i)\n"
   ]
  },
  {
   "cell_type": "code",
   "execution_count": 158,
   "id": "ba1fb58b-ff8d-461f-bb49-630e0ab2a7b5",
   "metadata": {},
   "outputs": [
    {
     "name": "stdout",
     "output_type": "stream",
     "text": [
      "avg of nums : 5.5\n"
     ]
    }
   ],
   "source": [
    "# 8Q) avg of first 10 natural no.s\n",
    "sum=0\n",
    "\n",
    "for i in range(1,N+1):\n",
    "    sum = (sum + i)\n",
    "print(f\"avg of nums : {sum/N}\") "
   ]
  },
  {
   "cell_type": "code",
   "execution_count": 41,
   "id": "c10deabc-89c4-48f9-8fea-9f3319318cac",
   "metadata": {},
   "outputs": [
    {
     "name": "stdin",
     "output_type": "stream",
     "text": [
      "enter the total no,s : 10\n"
     ]
    },
    {
     "name": "stdout",
     "output_type": "stream",
     "text": [
      "5.5\n"
     ]
    }
   ],
   "source": [
    "N = eval(input(\"enter the total no.s :\"))\n",
    "sum = 0\n",
    "for i in range(1,N+1):\n",
    "    sum = sum + i\n",
    "    \n",
    "print(sum/N)    \n",
    "    \n",
    "    "
   ]
  },
  {
   "cell_type": "markdown",
   "id": "5d08a985-974d-44e0-8159-096ff5877fcf",
   "metadata": {},
   "source": [
    "## counter wrapper\n",
    "- Before the loop initialize with count=0\n",
    "- under for loop count = count+1\n",
    "- counter always increase by 1  "
   ]
  },
  {
   "cell_type": "code",
   "execution_count": 45,
   "id": "64de4774-4de3-4c61-b655-f0ca6dd60130",
   "metadata": {},
   "outputs": [
    {
     "name": "stdin",
     "output_type": "stream",
     "text": [
      " enter the val:  75\n"
     ]
    },
    {
     "name": "stdout",
     "output_type": "stream",
     "text": [
      "divisor of 75: 6\n"
     ]
    }
   ],
   "source": [
    "# find the no.s of divisors of 75\n",
    "# divisors = 1,3,5,13,15,75\n",
    "# numbers = 6\n",
    "count = 0\n",
    "m = eval(input(\" enter the val: \"))\n",
    "for i in range(1, m+1):\n",
    "    if m%i==0:\n",
    "        count=count+1\n",
    "print(f\"divisor of {m}: {count}\" )"
   ]
  },
  {
   "cell_type": "code",
   "execution_count": 51,
   "id": "3ef3424e-d3fe-43c5-8046-acd962b5f40f",
   "metadata": {},
   "outputs": [
    {
     "name": "stdin",
     "output_type": "stream",
     "text": [
      " enter the num2 : 3\n"
     ]
    },
    {
     "name": "stdout",
     "output_type": "stream",
     "text": [
      "lost\n"
     ]
    },
    {
     "name": "stdin",
     "output_type": "stream",
     "text": [
      " enter the num2 : 4\n"
     ]
    },
    {
     "name": "stdout",
     "output_type": "stream",
     "text": [
      "lost\n"
     ]
    },
    {
     "name": "stdin",
     "output_type": "stream",
     "text": [
      " enter the num2 : 6\n"
     ]
    },
    {
     "name": "stdout",
     "output_type": "stream",
     "text": [
      "lost\n"
     ]
    }
   ],
   "source": [
    "# 10Q) get a random number b/w 1 to 10: num1\n",
    "# ask the user to enter a number: num2\n",
    "#if num1==num2 then print won\n",
    "#else print fail\n",
    "#give 3 chances\n",
    "import random\n",
    "for i in range(3):\n",
    "    num1 = random.randint(1,10)\n",
    "    num2 = eval(input(\" enter the num2 :\"))\n",
    "\n",
    "    if num1==num2:\n",
    "        print(\" won\")\n",
    "    else:\n",
    "        print(\"lost\")"
   ]
  },
  {
   "cell_type": "code",
   "execution_count": 52,
   "id": "b0a83ab2-58cf-4ae0-b999-c2344d5e2a54",
   "metadata": {},
   "outputs": [
    {
     "name": "stdin",
     "output_type": "stream",
     "text": [
      " enter the num2 : 2\n"
     ]
    },
    {
     "name": "stdout",
     "output_type": "stream",
     "text": [
      " won\n"
     ]
    }
   ],
   "source": [
    "# case-2: whenever you won the code should stop\n",
    "\n",
    "# 10Q) get a random number b/w 1 to 10: num1\n",
    "# ask the user to enter a number: num2\n",
    "#if num1==num2 then print won\n",
    "#else print fail\n",
    "#give 3 chances\n",
    "import random\n",
    "for i in range(3):\n",
    "    num1 = random.randint(1,10)\n",
    "    num2 = eval(input(\" enter the num2 :\"))\n",
    "\n",
    "    if num1==num2:\n",
    "        print(\" won\")\n",
    "        break\n",
    "    else:\n",
    "        print(\"lost\")"
   ]
  },
  {
   "cell_type": "code",
   "execution_count": 59,
   "id": "2528fe6d-c427-4498-9eea-0ecea54a18b5",
   "metadata": {},
   "outputs": [
    {
     "name": "stdin",
     "output_type": "stream",
     "text": [
      " enter the num2 : 4\n"
     ]
    },
    {
     "name": "stdout",
     "output_type": "stream",
     "text": [
      "Lost\n",
      "no. of chances left: 3 \n"
     ]
    },
    {
     "name": "stdin",
     "output_type": "stream",
     "text": [
      " enter the num2 : 5\n"
     ]
    },
    {
     "name": "stdout",
     "output_type": "stream",
     "text": [
      "Lost\n",
      "no. of chances left: 2 \n"
     ]
    },
    {
     "name": "stdin",
     "output_type": "stream",
     "text": [
      " enter the num2 : 2\n"
     ]
    },
    {
     "name": "stdout",
     "output_type": "stream",
     "text": [
      "Lost\n",
      "no. of chances left: 1 \n"
     ]
    },
    {
     "name": "stdin",
     "output_type": "stream",
     "text": [
      " enter the num2 : 6\n"
     ]
    },
    {
     "name": "stdout",
     "output_type": "stream",
     "text": [
      "Lost\n",
      "no. of chances left: 0 \n",
      "TRy after 24 hours\n"
     ]
    }
   ],
   "source": [
    "# case -3\n",
    "# suppose i want to give 4 chances\n",
    "# every time you fail i want to display \n",
    "# numbers of chances left\n",
    "\n",
    "# if all the chances u are used\n",
    "#  try again after 24hrs \n",
    "\n",
    "# if u are win\n",
    "for i in range(4):\n",
    "    num1 = random.randint(1,10)\n",
    "    num2 = eval(input(\" enter the num2 :\"))\n",
    "\n",
    "    if num1!=num2:\n",
    "        print(\"Lost\")\n",
    "        print(f\"no. of chances left: {3-i} \")\n",
    "    else: \n",
    "        print(\"won\")\n",
    "        break\n",
    "    if i == 3:\n",
    "        print(\"TRy after 24 hours\")\n",
    "        \n",
    "\n",
    "    \n",
    "\n",
    "\n"
   ]
  },
  {
   "cell_type": "code",
   "execution_count": 64,
   "id": "9ffad0b8-81a6-4676-9311-d8c7e70ecda4",
   "metadata": {},
   "outputs": [
    {
     "name": "stdout",
     "output_type": "stream",
     "text": [
      "the total no. of even no.s are: 3\n",
      "the total no. of odd no.s are: 2\n"
     ]
    }
   ],
   "source": [
    "#wap ask the user get 5 random numbers \n",
    "#get it is an even number or odd number\n",
    "#also count howmany even nums are there\n",
    "# and count how many odd nums are there\n",
    "#\n",
    "\n",
    "\n",
    "\n",
    "# idea\n",
    "#taketwo counters one even and odd count\n",
    "#for loop 5 times\n",
    "#each time take the random number\n",
    "#if condition\n",
    "# True condition update\n",
    "# else\n",
    "# updtae the counter\n",
    "\n",
    "import random\n",
    "even_count, odd_count = 0,0\n",
    "for i in range(5):\n",
    "    num = random.randint(1,100)\n",
    "    if num%2 == 0:\n",
    "        even_count = even_count+1\n",
    "    else:   \n",
    "        odd_count = odd_count+1\n",
    "print(f\"the total no. of even no.s are: {even_count}\")\n",
    "print(f\"the total no. of odd no.s are: {odd_count}\")"
   ]
  },
  {
   "cell_type": "code",
   "execution_count": 165,
   "id": "593dbf76-c508-4355-9aa1-c5bc72b0992b",
   "metadata": {},
   "outputs": [
    {
     "name": "stdout",
     "output_type": "stream",
     "text": [
      "57\n",
      "5\n",
      "42\n",
      "73\n",
      "55\n",
      "the total no. of even no.s are: 1\n",
      "the total no. of odd no.s are: 4\n",
      "the total evensum is : 42\n",
      "the total oddsum is : 190\n"
     ]
    }
   ],
   "source": [
    "# even sum and odd sum\n",
    "\n",
    "import random\n",
    "even_count, odd_count = 0,0\n",
    "even_sum, odd_sum =0,0\n",
    "for i in range(5):\n",
    "    num = random.randint(1,100)\n",
    "    print(num)\n",
    "    if num%2 == 0:\n",
    "        even_count = even_count+1\n",
    "        even_sum = even_sum + num\n",
    "    else:   \n",
    "        odd_count = odd_count+1\n",
    "        odd_sum = odd_sum + num\n",
    "print(f\"the total no. of even no.s are: {even_count}\")\n",
    "print(f\"the total no. of odd no.s are: {odd_count}\")\n",
    "print(f\"the total evensum is : {even_sum}\")\n",
    "print(f\"the total oddsum is : {odd_sum}\")\n",
    "\n"
   ]
  },
  {
   "cell_type": "code",
   "execution_count": 162,
   "id": "0013423d-a4dd-4978-a393-e6a0369115dc",
   "metadata": {},
   "outputs": [
    {
     "name": "stdout",
     "output_type": "stream",
     "text": [
      "the total no. of even no.s are: 0\n",
      "the total no. of odd no.s are: 0\n",
      "the total evensum is : 0\n",
      "the total oddsum is : 0\n"
     ]
    },
    {
     "ename": "UnboundLocalError",
     "evalue": "cannot access local variable 'even_count' where it is not associated with a value",
     "output_type": "error",
     "traceback": [
      "\u001b[1;31m---------------------------------------------------------------------------\u001b[0m",
      "\u001b[1;31mUnboundLocalError\u001b[0m                         Traceback (most recent call last)",
      "Cell \u001b[1;32mIn[162], line 18\u001b[0m\n\u001b[0;32m     16\u001b[0m \u001b[38;5;28mprint\u001b[39m(\u001b[38;5;124mf\u001b[39m\u001b[38;5;124m\"\u001b[39m\u001b[38;5;124mthe total evensum is : \u001b[39m\u001b[38;5;132;01m{\u001b[39;00meven_sum\u001b[38;5;132;01m}\u001b[39;00m\u001b[38;5;124m\"\u001b[39m)\n\u001b[0;32m     17\u001b[0m \u001b[38;5;28mprint\u001b[39m(\u001b[38;5;124mf\u001b[39m\u001b[38;5;124m\"\u001b[39m\u001b[38;5;124mthe total oddsum is : \u001b[39m\u001b[38;5;132;01m{\u001b[39;00modd_sum\u001b[38;5;132;01m}\u001b[39;00m\u001b[38;5;124m\"\u001b[39m)\n\u001b[1;32m---> 18\u001b[0m \u001b[43mCount_sum\u001b[49m\u001b[43m(\u001b[49m\u001b[43m)\u001b[49m\n",
      "Cell \u001b[1;32mIn[162], line 8\u001b[0m, in \u001b[0;36mCount_sum\u001b[1;34m()\u001b[0m\n\u001b[0;32m      6\u001b[0m     num\u001b[38;5;241m=\u001b[39m random\u001b[38;5;241m.\u001b[39mrandint(\u001b[38;5;241m1\u001b[39m,\u001b[38;5;241m100\u001b[39m)\n\u001b[0;32m      7\u001b[0m     \u001b[38;5;28;01mif\u001b[39;00m num\u001b[38;5;241m%\u001b[39m\u001b[38;5;241m2\u001b[39m \u001b[38;5;241m==\u001b[39m \u001b[38;5;241m0\u001b[39m:\n\u001b[1;32m----> 8\u001b[0m         even_count \u001b[38;5;241m=\u001b[39m \u001b[43meven_count\u001b[49m\u001b[38;5;241m+\u001b[39m\u001b[38;5;241m1\u001b[39m  \u001b[38;5;66;03m# unbound error\u001b[39;00m\n\u001b[0;32m      9\u001b[0m         even_sum \u001b[38;5;241m=\u001b[39m even_sum \u001b[38;5;241m+\u001b[39m \u001b[38;5;241m1\u001b[39m\n\u001b[0;32m     10\u001b[0m \u001b[38;5;28;01melse\u001b[39;00m:   \n",
      "\u001b[1;31mUnboundLocalError\u001b[0m: cannot access local variable 'even_count' where it is not associated with a value"
     ]
    }
   ],
   "source": [
    "# create a function on above code return all 4 print output\n",
    "even_count, odd_count = 0,0\n",
    "even_sum, odd_sum =0,0\n",
    "def Count_sum():\n",
    "        for i in range(5):\n",
    "            num= random.randint(1,100)\n",
    "            if num%2 == 0:\n",
    "                even_count = even_count+1  # unbound error\n",
    "                even_sum = even_sum + 1\n",
    "        else:   \n",
    "            odd_count = odd_count+1\n",
    "            odd_sum = odd_sum + 1\n",
    "        return(even_count,odd_count,even_sum, odd_sum)   \n",
    "print(f\"the total no. of even no.s are: {even_count}\")\n",
    "print(f\"the total no. of odd no.s are: {odd_count}\")\n",
    "print(f\"the total evensum is : {even_sum}\")\n",
    "print(f\"the total oddsum is : {odd_sum}\")\n",
    "Count_sum()\n",
    "            \n",
    "    \n",
    "    "
   ]
  },
  {
   "cell_type": "markdown",
   "id": "b6712199-2924-4132-848b-9b3a3eed345e",
   "metadata": {},
   "source": [
    "### in operator"
   ]
  },
  {
   "cell_type": "code",
   "execution_count": 163,
   "id": "7b1f8361-3ebe-45d9-95dd-2e762766c808",
   "metadata": {},
   "outputs": [
    {
     "data": {
      "text/plain": [
       "True"
      ]
     },
     "execution_count": 163,
     "metadata": {},
     "output_type": "execute_result"
    }
   ],
   "source": [
    "string1 = 'python'\n",
    "'p' in string1\n",
    "'y' in string1\n",
    "'t' in string1\n",
    "\n",
    "# i in string1"
   ]
  },
  {
   "cell_type": "code",
   "execution_count": 77,
   "id": "d7a688eb-7913-43a4-b999-1329c9027855",
   "metadata": {},
   "outputs": [
    {
     "name": "stdout",
     "output_type": "stream",
     "text": [
      "p\n",
      "y\n",
      "t\n",
      "h\n",
      "o\n",
      "n\n"
     ]
    }
   ],
   "source": [
    "for i in string1:\n",
    "    print(i)"
   ]
  },
  {
   "cell_type": "markdown",
   "id": "af123f1b-1f37-43c3-9aad-4d0bec628fda",
   "metadata": {},
   "source": [
    "### difference b/w in operator and range operator"
   ]
  },
  {
   "cell_type": "markdown",
   "id": "b6a8add4-50de-4e79-a5bf-9602e9b72083",
   "metadata": {},
   "source": [
    "- range belongs to math family \n",
    "- inside range we need to keep only numbers\n",
    "- if want to iterate through a english letters\n",
    "- we need to use $in$ operator\n",
    "- $range$ means $numbers$\n",
    "- $in$ means $strings$"
   ]
  },
  {
   "cell_type": "code",
   "execution_count": 80,
   "id": "8f446a38-05e9-4113-9fbc-591d3fbde930",
   "metadata": {},
   "outputs": [
    {
     "data": {
      "text/plain": [
       "True"
      ]
     },
     "execution_count": 80,
     "metadata": {},
     "output_type": "execute_result"
    }
   ],
   "source": [
    "'p'>'P' #ASCII RULE"
   ]
  },
  {
   "cell_type": "markdown",
   "id": "31f0c10d-8b9b-4afd-95fb-ab0f16c0e22b",
   "metadata": {},
   "source": [
    "- every english letter \n",
    "- every special characters how machine understand\n",
    "- machine language always consider numbers only\n",
    "- organisation as implemented , \n",
    "- every non numeric assign a number\n",
    "- **ASCII : American Standard code for Information Interchange**\n",
    "- A : 65, a : 97"
   ]
  },
  {
   "cell_type": "markdown",
   "id": "2716764d-ad80-4c4f-a561-31c2a5b5db0a",
   "metadata": {},
   "source": [
    "### ord-chr"
   ]
  },
  {
   "cell_type": "code",
   "execution_count": null,
   "id": "442b589b-678b-4544-b4d9-6e4e8b6ab55f",
   "metadata": {},
   "outputs": [],
   "source": [
    "A == 65=== 0b1000001"
   ]
  },
  {
   "cell_type": "code",
   "execution_count": 82,
   "id": "863d5dce-0fa3-4da2-94b2-6e7395254b35",
   "metadata": {},
   "outputs": [
    {
     "data": {
      "text/plain": [
       "(65, 97)"
      ]
     },
     "execution_count": 82,
     "metadata": {},
     "output_type": "execute_result"
    }
   ],
   "source": [
    "ord('A'), ord('a')"
   ]
  },
  {
   "cell_type": "code",
   "execution_count": 83,
   "id": "eeea6baa-2098-4d88-a804-bbca47a4aa42",
   "metadata": {},
   "outputs": [
    {
     "data": {
      "text/plain": [
       "(112, 80)"
      ]
     },
     "execution_count": 83,
     "metadata": {},
     "output_type": "execute_result"
    }
   ],
   "source": [
    "ord('p'), ord('P')"
   ]
  },
  {
   "cell_type": "code",
   "execution_count": 84,
   "id": "c9d3a53d-31d2-4263-bd6a-19b04e4f7fda",
   "metadata": {},
   "outputs": [
    {
     "data": {
      "text/plain": [
       "True"
      ]
     },
     "execution_count": 84,
     "metadata": {},
     "output_type": "execute_result"
    }
   ],
   "source": [
    "'p'>'P'"
   ]
  },
  {
   "cell_type": "code",
   "execution_count": 85,
   "id": "48962d9e-0d14-4393-b8bf-645687a08f7b",
   "metadata": {},
   "outputs": [
    {
     "data": {
      "text/plain": [
       "'p'"
      ]
     },
     "execution_count": 85,
     "metadata": {},
     "output_type": "execute_result"
    }
   ],
   "source": [
    "chr(112)"
   ]
  },
  {
   "cell_type": "code",
   "execution_count": 87,
   "id": "8f92c71b-469e-457d-833c-118e7a9847a3",
   "metadata": {},
   "outputs": [
    {
     "data": {
      "text/plain": [
       "('A', 'C')"
      ]
     },
     "execution_count": 87,
     "metadata": {},
     "output_type": "execute_result"
    }
   ],
   "source": [
    "chr(65), chr(67)"
   ]
  },
  {
   "cell_type": "code",
   "execution_count": 90,
   "id": "bed6ea17-8556-4088-8b4c-9832f69e313f",
   "metadata": {},
   "outputs": [
    {
     "name": "stdout",
     "output_type": "stream",
     "text": [
      "the ASCII OF p is : 112\n",
      "the ASCII OF y is : 121\n",
      "the ASCII OF t is : 116\n",
      "the ASCII OF h is : 104\n",
      "the ASCII OF o is : 111\n",
      "the ASCII OF n is : 110\n"
     ]
    }
   ],
   "source": [
    "# i want string1 = 'python' \n",
    "# print all ascii nums for 'python'\n",
    "\n",
    "for i in 'python':\n",
    "    print(f\"the ASCII OF {i} is : {ord(i)}\")"
   ]
  },
  {
   "cell_type": "code",
   "execution_count": 93,
   "id": "95d4fa20-987a-41c6-b6e6-c66acdff3f43",
   "metadata": {},
   "outputs": [
    {
     "name": "stdout",
     "output_type": "stream",
     "text": [
      "the ASCII OF p is : 112\n",
      "the ASCII OF y is : 121\n",
      "the ASCII OF t is : 116\n",
      "the ASCII OF h is : 104\n",
      "the ASCII OF o is : 111\n",
      "the ASCII OF n is : 110\n",
      " the sum of ASCII no.s is 674\n"
     ]
    }
   ],
   "source": [
    "# sum of all this ascii no.s\n",
    "summ =0\n",
    "for i in 'python':\n",
    "    summ = summ + ord(i)\n",
    "    print(f\"the ASCII OF {i} is : {ord(i)}\")\n",
    "print(f\" the sum of ASCII no.s is {summ}\")\n",
    "\n"
   ]
  },
  {
   "cell_type": "code",
   "execution_count": null,
   "id": "1c165de0-d7c8-488f-a0e0-8a62ad298d45",
   "metadata": {},
   "outputs": [],
   "source": [
    "# i want to know all ascii no.s from A to z\n"
   ]
  },
  {
   "cell_type": "code",
   "execution_count": 97,
   "id": "1db8b7b5-be7d-447e-be94-95b497d27778",
   "metadata": {},
   "outputs": [],
   "source": [
    "# package called :string\n",
    "# import the package\n",
    "# apply dir \n",
    "# there are some methods are ther \n",
    "# in that one method will capital letters\n",
    "import string"
   ]
  },
  {
   "cell_type": "code",
   "execution_count": 98,
   "id": "1aa193b5-d459-410d-b6ce-7eaa85046d1e",
   "metadata": {},
   "outputs": [
    {
     "data": {
      "text/plain": [
       "['Formatter',\n",
       " 'Template',\n",
       " '_ChainMap',\n",
       " '__all__',\n",
       " '__builtins__',\n",
       " '__cached__',\n",
       " '__doc__',\n",
       " '__file__',\n",
       " '__loader__',\n",
       " '__name__',\n",
       " '__package__',\n",
       " '__spec__',\n",
       " '_re',\n",
       " '_sentinel_dict',\n",
       " '_string',\n",
       " 'ascii_letters',\n",
       " 'ascii_lowercase',\n",
       " 'ascii_uppercase',\n",
       " 'capwords',\n",
       " 'digits',\n",
       " 'hexdigits',\n",
       " 'octdigits',\n",
       " 'printable',\n",
       " 'punctuation',\n",
       " 'whitespace']"
      ]
     },
     "execution_count": 98,
     "metadata": {},
     "output_type": "execute_result"
    }
   ],
   "source": [
    "dir(string)"
   ]
  },
  {
   "cell_type": "code",
   "execution_count": 100,
   "id": "2df66ff8-b794-4a5f-871a-5d053c309b1f",
   "metadata": {},
   "outputs": [
    {
     "name": "stdout",
     "output_type": "stream",
     "text": [
      "Help on module string:\n",
      "\n",
      "NAME\n",
      "    string - A collection of string constants.\n",
      "\n",
      "MODULE REFERENCE\n",
      "    https://docs.python.org/3.11/library/string.html\n",
      "    \n",
      "    The following documentation is automatically generated from the Python\n",
      "    source files.  It may be incomplete, incorrect or include features that\n",
      "    are considered implementation detail and may vary between Python\n",
      "    implementations.  When in doubt, consult the module reference at the\n",
      "    location listed above.\n",
      "\n",
      "DESCRIPTION\n",
      "    Public module variables:\n",
      "    \n",
      "    whitespace -- a string containing all ASCII whitespace\n",
      "    ascii_lowercase -- a string containing all ASCII lowercase letters\n",
      "    ascii_uppercase -- a string containing all ASCII uppercase letters\n",
      "    ascii_letters -- a string containing all ASCII letters\n",
      "    digits -- a string containing all ASCII decimal digits\n",
      "    hexdigits -- a string containing all ASCII hexadecimal digits\n",
      "    octdigits -- a string containing all ASCII octal digits\n",
      "    punctuation -- a string containing all ASCII punctuation characters\n",
      "    printable -- a string containing all ASCII characters considered printable\n",
      "\n",
      "CLASSES\n",
      "    builtins.object\n",
      "        Formatter\n",
      "        Template\n",
      "    \n",
      "    class Formatter(builtins.object)\n",
      "     |  Methods defined here:\n",
      "     |  \n",
      "     |  check_unused_args(self, used_args, args, kwargs)\n",
      "     |  \n",
      "     |  convert_field(self, value, conversion)\n",
      "     |  \n",
      "     |  format(self, format_string, /, *args, **kwargs)\n",
      "     |  \n",
      "     |  format_field(self, value, format_spec)\n",
      "     |  \n",
      "     |  get_field(self, field_name, args, kwargs)\n",
      "     |      # given a field_name, find the object it references.\n",
      "     |      #  field_name:   the field being looked up, e.g. \"0.name\"\n",
      "     |      #                 or \"lookup[3]\"\n",
      "     |      #  used_args:    a set of which args have been used\n",
      "     |      #  args, kwargs: as passed in to vformat\n",
      "     |  \n",
      "     |  get_value(self, key, args, kwargs)\n",
      "     |  \n",
      "     |  parse(self, format_string)\n",
      "     |      # returns an iterable that contains tuples of the form:\n",
      "     |      # (literal_text, field_name, format_spec, conversion)\n",
      "     |      # literal_text can be zero length\n",
      "     |      # field_name can be None, in which case there's no\n",
      "     |      #  object to format and output\n",
      "     |      # if field_name is not None, it is looked up, formatted\n",
      "     |      #  with format_spec and conversion and then used\n",
      "     |  \n",
      "     |  vformat(self, format_string, args, kwargs)\n",
      "     |  \n",
      "     |  ----------------------------------------------------------------------\n",
      "     |  Data descriptors defined here:\n",
      "     |  \n",
      "     |  __dict__\n",
      "     |      dictionary for instance variables\n",
      "     |  \n",
      "     |  __weakref__\n",
      "     |      list of weak references to the object\n",
      "    \n",
      "    class Template(builtins.object)\n",
      "     |  Template(template)\n",
      "     |  \n",
      "     |  A string class for supporting $-substitutions.\n",
      "     |  \n",
      "     |  Methods defined here:\n",
      "     |  \n",
      "     |  __init__(self, template)\n",
      "     |      Initialize self.  See help(type(self)) for accurate signature.\n",
      "     |  \n",
      "     |  get_identifiers(self)\n",
      "     |  \n",
      "     |  is_valid(self)\n",
      "     |  \n",
      "     |  safe_substitute(self, mapping={}, /, **kws)\n",
      "     |  \n",
      "     |  substitute(self, mapping={}, /, **kws)\n",
      "     |  \n",
      "     |  ----------------------------------------------------------------------\n",
      "     |  Class methods defined here:\n",
      "     |  \n",
      "     |  __init_subclass__() from builtins.type\n",
      "     |      This method is called when a class is subclassed.\n",
      "     |      \n",
      "     |      The default implementation does nothing. It may be\n",
      "     |      overridden to extend subclasses.\n",
      "     |  \n",
      "     |  ----------------------------------------------------------------------\n",
      "     |  Data descriptors defined here:\n",
      "     |  \n",
      "     |  __dict__\n",
      "     |      dictionary for instance variables\n",
      "     |  \n",
      "     |  __weakref__\n",
      "     |      list of weak references to the object\n",
      "     |  \n",
      "     |  ----------------------------------------------------------------------\n",
      "     |  Data and other attributes defined here:\n",
      "     |  \n",
      "     |  braceidpattern = None\n",
      "     |  \n",
      "     |  delimiter = '$'\n",
      "     |  \n",
      "     |  flags = re.IGNORECASE\n",
      "     |  \n",
      "     |  idpattern = '(?a:[_a-z][_a-z0-9]*)'\n",
      "     |  \n",
      "     |  pattern = re.compile('\\n            \\\\$(?:\\n              ...identifie...\n",
      "\n",
      "FUNCTIONS\n",
      "    capwords(s, sep=None)\n",
      "        capwords(s [,sep]) -> string\n",
      "        \n",
      "        Split the argument into words using split, capitalize each\n",
      "        word using capitalize, and join the capitalized words using\n",
      "        join.  If the optional second argument sep is absent or None,\n",
      "        runs of whitespace characters are replaced by a single space\n",
      "        and leading and trailing whitespace are removed, otherwise\n",
      "        sep is used to split and join the words.\n",
      "\n",
      "DATA\n",
      "    __all__ = ['ascii_letters', 'ascii_lowercase', 'ascii_uppercase', 'cap...\n",
      "    ascii_letters = 'abcdefghijklmnopqrstuvwxyzABCDEFGHIJKLMNOPQRSTUVWXYZ'\n",
      "    ascii_lowercase = 'abcdefghijklmnopqrstuvwxyz'\n",
      "    ascii_uppercase = 'ABCDEFGHIJKLMNOPQRSTUVWXYZ'\n",
      "    digits = '0123456789'\n",
      "    hexdigits = '0123456789abcdefABCDEF'\n",
      "    octdigits = '01234567'\n",
      "    printable = '0123456789abcdefghijklmnopqrstuvwxyzABCDEFGHIJKLMNOPQRSTU...\n",
      "    punctuation = '!\"#$%&\\'()*+,-./:;<=>?@[\\\\]^_`{|}~'\n",
      "    whitespace = ' \\t\\n\\r\\x0b\\x0c'\n",
      "\n",
      "FILE\n",
      "    c:\\users\\nivruthi\\anaconda3\\lib\\string.py\n",
      "\n",
      "\n"
     ]
    }
   ],
   "source": [
    "help(string)"
   ]
  },
  {
   "cell_type": "code",
   "execution_count": 104,
   "id": "75f63497-e4cc-4e0e-88f5-346676680d05",
   "metadata": {},
   "outputs": [
    {
     "name": "stdout",
     "output_type": "stream",
     "text": [
      "abcdefghijklmnopqrstuvwxyzABCDEFGHIJKLMNOPQRSTUVWXYZ\n"
     ]
    }
   ],
   "source": [
    "# i want all letters in  A TO z\n",
    "num = string.ascii_letters\n",
    "print(num)"
   ]
  },
  {
   "cell_type": "code",
   "execution_count": 114,
   "id": "13c299bc-a2a4-434f-bde8-c85124e93899",
   "metadata": {},
   "outputs": [
    {
     "name": "stdout",
     "output_type": "stream",
     "text": [
      "ascii value of A: 65\n",
      "ascii value of B: 66\n",
      "ascii value of C: 67\n",
      "ascii value of D: 68\n",
      "ascii value of E: 69\n",
      "ascii value of F: 70\n",
      "ascii value of G: 71\n",
      "ascii value of H: 72\n",
      "ascii value of I: 73\n",
      "ascii value of J: 74\n",
      "ascii value of K: 75\n",
      "ascii value of L: 76\n",
      "ascii value of M: 77\n",
      "ascii value of N: 78\n",
      "ascii value of O: 79\n",
      "ascii value of P: 80\n",
      "ascii value of Q: 81\n",
      "ascii value of R: 82\n",
      "ascii value of S: 83\n",
      "ascii value of T: 84\n",
      "ascii value of U: 85\n",
      "ascii value of V: 86\n",
      "ascii value of W: 87\n",
      "ascii value of X: 88\n",
      "ascii value of Y: 89\n",
      "ascii value of Z: 90\n"
     ]
    }
   ],
   "source": [
    "u = string.ascii_uppercase\n",
    "for i in u:\n",
    "    print(f\"ascii value of {i}: {ord(i)}\")"
   ]
  },
  {
   "cell_type": "code",
   "execution_count": 115,
   "id": "d6e4bd61-192f-40bf-98d4-50c32e6d1c20",
   "metadata": {},
   "outputs": [
    {
     "data": {
      "text/plain": [
       "'!\"#$%&\\'()*+,-./:;<=>?@[\\\\]^_`{|}~'"
      ]
     },
     "execution_count": 115,
     "metadata": {},
     "output_type": "execute_result"
    }
   ],
   "source": [
    "string.punctuation"
   ]
  },
  {
   "cell_type": "code",
   "execution_count": 116,
   "id": "0eb9e7df-ec4c-4ef9-aba7-454553938f94",
   "metadata": {},
   "outputs": [
    {
     "name": "stdout",
     "output_type": "stream",
     "text": [
      "ascii value of !: 33\n",
      "ascii value of \": 34\n",
      "ascii value of #: 35\n",
      "ascii value of $: 36\n",
      "ascii value of %: 37\n",
      "ascii value of &: 38\n",
      "ascii value of ': 39\n",
      "ascii value of (: 40\n",
      "ascii value of ): 41\n",
      "ascii value of *: 42\n",
      "ascii value of +: 43\n",
      "ascii value of ,: 44\n",
      "ascii value of -: 45\n",
      "ascii value of .: 46\n",
      "ascii value of /: 47\n",
      "ascii value of :: 58\n",
      "ascii value of ;: 59\n",
      "ascii value of <: 60\n",
      "ascii value of =: 61\n",
      "ascii value of >: 62\n",
      "ascii value of ?: 63\n",
      "ascii value of @: 64\n",
      "ascii value of [: 91\n",
      "ascii value of \\: 92\n",
      "ascii value of ]: 93\n",
      "ascii value of ^: 94\n",
      "ascii value of _: 95\n",
      "ascii value of `: 96\n",
      "ascii value of {: 123\n",
      "ascii value of |: 124\n",
      "ascii value of }: 125\n",
      "ascii value of ~: 126\n"
     ]
    }
   ],
   "source": [
    "p = string.punctuation\n",
    "for i in p:\n",
    "    print(f\"ascii value of {i}: {ord(i)}\")"
   ]
  },
  {
   "cell_type": "code",
   "execution_count": 117,
   "id": "ac25e0aa-e182-4405-9bca-e2aa8611f9d0",
   "metadata": {},
   "outputs": [
    {
     "name": "stdout",
     "output_type": "stream",
     "text": [
      "ascii value of a: 97\n",
      "ascii value of b: 98\n",
      "ascii value of c: 99\n",
      "ascii value of d: 100\n",
      "ascii value of e: 101\n",
      "ascii value of f: 102\n",
      "ascii value of g: 103\n",
      "ascii value of h: 104\n",
      "ascii value of i: 105\n",
      "ascii value of j: 106\n",
      "ascii value of k: 107\n",
      "ascii value of l: 108\n",
      "ascii value of m: 109\n",
      "ascii value of n: 110\n",
      "ascii value of o: 111\n",
      "ascii value of p: 112\n",
      "ascii value of q: 113\n",
      "ascii value of r: 114\n",
      "ascii value of s: 115\n",
      "ascii value of t: 116\n",
      "ascii value of u: 117\n",
      "ascii value of v: 118\n",
      "ascii value of w: 119\n",
      "ascii value of x: 120\n",
      "ascii value of y: 121\n",
      "ascii value of z: 122\n"
     ]
    }
   ],
   "source": [
    "u = string.ascii_lowercase\n",
    "for i in u:\n",
    "    print(f\"ascii value of {i}: {ord(i)}\")"
   ]
  },
  {
   "cell_type": "code",
   "execution_count": 118,
   "id": "873924b4-7ce1-4d14-894a-958ab20b876b",
   "metadata": {},
   "outputs": [
    {
     "name": "stdout",
     "output_type": "stream",
     "text": [
      "20 \u0014 21 \u0015 22 \u0016 23 \u0017 24 \u0018 25 \u0019 26 \u001a 27 \u001b 28 \u001c",
      " 29 \u001d",
      " 30 \u001e",
      " 31 \u001f 32   33 ! 34 \" 35 # 36 $ 37 % 38 & 39 ' 40 ( 41 ) 42 * 43 + 44 , 45 - 46 . 47 / 48 0 49 1 50 2 51 3 52 4 53 5 54 6 55 7 56 8 57 9 58 : 59 ; 60 < 61 = 62 > 63 ? 64 @ 65 A 66 B 67 C 68 D 69 E 70 F 71 G 72 H 73 I 74 J 75 K 76 L 77 M 78 N 79 O 80 P 81 Q 82 R 83 S 84 T 85 U 86 V 87 W 88 X 89 Y 90 Z 91 [ 92 \\ 93 ] 94 ^ 95 _ 96 ` 97 a 98 b 99 c 100 d 101 e 102 f 103 g 104 h 105 i 106 j 107 k 108 l 109 m 110 n 111 o 112 p 113 q 114 r 115 s 116 t 117 u 118 v 119 w 120 x 121 y 122 z 123 { 124 | 125 } 126 ~ 127  128  129  130  131  132  133 ",
      " 134  135  136  137  138  139  "
     ]
    }
   ],
   "source": [
    "# A - Z = 65-90\n",
    "# a - z = 97 - 122\n",
    "# ! - ~ = 33 - 126\n",
    "\n",
    "for i in range (20,140):\n",
    "    print(i , chr(i), end =' ')"
   ]
  },
  {
   "cell_type": "code",
   "execution_count": 119,
   "id": "5f22b803-4bac-457c-82c3-f6ca1fe98f08",
   "metadata": {},
   "outputs": [
    {
     "name": "stdout",
     "output_type": "stream",
     "text": [
      "200 È 201 É 202 Ê 203 Ë 204 Ì 205 Í 206 Î 207 Ï 208 Ð 209 Ñ 210 Ò 211 Ó 212 Ô 213 Õ 214 Ö 215 × 216 Ø 217 Ù 218 Ú 219 Û 220 Ü 221 Ý 222 Þ 223 ß 224 à 225 á 226 â 227 ã 228 ä 229 å 230 æ 231 ç 232 è 233 é 234 ê 235 ë 236 ì 237 í 238 î 239 ï 240 ð 241 ñ 242 ò 243 ó 244 ô 245 õ 246 ö 247 ÷ 248 ø 249 ù 250 ú 251 û 252 ü 253 ý 254 þ 255 ÿ 256 Ā 257 ā 258 Ă 259 ă 260 Ą 261 ą 262 Ć 263 ć 264 Ĉ 265 ĉ 266 Ċ 267 ċ 268 Č 269 č 270 Ď 271 ď 272 Đ 273 đ 274 Ē 275 ē 276 Ĕ 277 ĕ 278 Ė 279 ė 280 Ę 281 ę 282 Ě 283 ě 284 Ĝ 285 ĝ 286 Ğ 287 ğ 288 Ġ 289 ġ 290 Ģ 291 ģ 292 Ĥ 293 ĥ 294 Ħ 295 ħ 296 Ĩ 297 ĩ 298 Ī 299 ī 300 Ĭ 301 ĭ 302 Į 303 į 304 İ 305 ı 306 Ĳ 307 ĳ 308 Ĵ 309 ĵ 310 Ķ 311 ķ 312 ĸ 313 Ĺ 314 ĺ 315 Ļ 316 ļ 317 Ľ 318 ľ 319 Ŀ 320 ŀ 321 Ł 322 ł 323 Ń 324 ń 325 Ņ 326 ņ 327 Ň 328 ň 329 ŉ 330 Ŋ 331 ŋ 332 Ō 333 ō 334 Ŏ 335 ŏ 336 Ő 337 ő 338 Œ 339 œ 340 Ŕ 341 ŕ 342 Ŗ 343 ŗ 344 Ř 345 ř 346 Ś 347 ś 348 Ŝ 349 ŝ 350 Ş 351 ş 352 Š 353 š 354 Ţ 355 ţ 356 Ť 357 ť 358 Ŧ 359 ŧ 360 Ũ 361 ũ 362 Ū 363 ū 364 Ŭ 365 ŭ 366 Ů 367 ů 368 Ű 369 ű 370 Ų 371 ų 372 Ŵ 373 ŵ 374 Ŷ 375 ŷ 376 Ÿ 377 Ź 378 ź 379 Ż 380 ż 381 Ž 382 ž 383 ſ 384 ƀ 385 Ɓ 386 Ƃ 387 ƃ 388 Ƅ 389 ƅ 390 Ɔ 391 Ƈ 392 ƈ 393 Ɖ 394 Ɗ 395 Ƌ 396 ƌ 397 ƍ 398 Ǝ 399 Ə 400 Ɛ 401 Ƒ 402 ƒ 403 Ɠ 404 Ɣ 405 ƕ 406 Ɩ 407 Ɨ 408 Ƙ 409 ƙ 410 ƚ 411 ƛ 412 Ɯ 413 Ɲ 414 ƞ 415 Ɵ 416 Ơ 417 ơ 418 Ƣ 419 ƣ 420 Ƥ 421 ƥ 422 Ʀ 423 Ƨ 424 ƨ 425 Ʃ 426 ƪ 427 ƫ 428 Ƭ 429 ƭ 430 Ʈ 431 Ư 432 ư 433 Ʊ 434 Ʋ 435 Ƴ 436 ƴ 437 Ƶ 438 ƶ 439 Ʒ 440 Ƹ 441 ƹ 442 ƺ 443 ƻ 444 Ƽ 445 ƽ 446 ƾ 447 ƿ 448 ǀ 449 ǁ 450 ǂ 451 ǃ 452 Ǆ 453 ǅ 454 ǆ 455 Ǉ 456 ǈ 457 ǉ 458 Ǌ 459 ǋ 460 ǌ 461 Ǎ 462 ǎ 463 Ǐ 464 ǐ 465 Ǒ 466 ǒ 467 Ǔ 468 ǔ 469 Ǖ 470 ǖ 471 Ǘ 472 ǘ 473 Ǚ 474 ǚ 475 Ǜ 476 ǜ 477 ǝ 478 Ǟ 479 ǟ 480 Ǡ 481 ǡ 482 Ǣ 483 ǣ 484 Ǥ 485 ǥ 486 Ǧ 487 ǧ 488 Ǩ 489 ǩ 490 Ǫ 491 ǫ 492 Ǭ 493 ǭ 494 Ǯ 495 ǯ 496 ǰ 497 Ǳ 498 ǲ 499 ǳ 500 Ǵ 501 ǵ 502 Ƕ 503 Ƿ 504 Ǹ 505 ǹ 506 Ǻ 507 ǻ 508 Ǽ 509 ǽ 510 Ǿ 511 ǿ 512 Ȁ 513 ȁ 514 Ȃ 515 ȃ 516 Ȅ 517 ȅ 518 Ȇ 519 ȇ 520 Ȉ 521 ȉ 522 Ȋ 523 ȋ 524 Ȍ 525 ȍ 526 Ȏ 527 ȏ 528 Ȑ 529 ȑ 530 Ȓ 531 ȓ 532 Ȕ 533 ȕ 534 Ȗ 535 ȗ 536 Ș 537 ș 538 Ț 539 ț 540 Ȝ 541 ȝ 542 Ȟ 543 ȟ 544 Ƞ 545 ȡ 546 Ȣ 547 ȣ 548 Ȥ 549 ȥ 550 Ȧ 551 ȧ 552 Ȩ 553 ȩ 554 Ȫ 555 ȫ 556 Ȭ 557 ȭ 558 Ȯ 559 ȯ 560 Ȱ 561 ȱ 562 Ȳ 563 ȳ 564 ȴ 565 ȵ 566 ȶ 567 ȷ 568 ȸ 569 ȹ 570 Ⱥ 571 Ȼ 572 ȼ 573 Ƚ 574 Ⱦ 575 ȿ 576 ɀ 577 Ɂ 578 ɂ 579 Ƀ 580 Ʉ 581 Ʌ 582 Ɇ 583 ɇ 584 Ɉ 585 ɉ 586 Ɋ 587 ɋ 588 Ɍ 589 ɍ 590 Ɏ 591 ɏ 592 ɐ 593 ɑ 594 ɒ 595 ɓ 596 ɔ 597 ɕ 598 ɖ 599 ɗ 600 ɘ 601 ə 602 ɚ 603 ɛ 604 ɜ 605 ɝ 606 ɞ 607 ɟ 608 ɠ 609 ɡ 610 ɢ 611 ɣ 612 ɤ 613 ɥ 614 ɦ 615 ɧ 616 ɨ 617 ɩ 618 ɪ 619 ɫ 620 ɬ 621 ɭ 622 ɮ 623 ɯ 624 ɰ 625 ɱ 626 ɲ 627 ɳ 628 ɴ 629 ɵ 630 ɶ 631 ɷ 632 ɸ 633 ɹ 634 ɺ 635 ɻ 636 ɼ 637 ɽ 638 ɾ 639 ɿ 640 ʀ 641 ʁ 642 ʂ 643 ʃ 644 ʄ 645 ʅ 646 ʆ 647 ʇ 648 ʈ 649 ʉ 650 ʊ 651 ʋ 652 ʌ 653 ʍ 654 ʎ 655 ʏ 656 ʐ 657 ʑ 658 ʒ 659 ʓ 660 ʔ 661 ʕ 662 ʖ 663 ʗ 664 ʘ 665 ʙ 666 ʚ 667 ʛ 668 ʜ 669 ʝ 670 ʞ 671 ʟ 672 ʠ 673 ʡ 674 ʢ 675 ʣ 676 ʤ 677 ʥ 678 ʦ 679 ʧ 680 ʨ 681 ʩ 682 ʪ 683 ʫ 684 ʬ 685 ʭ 686 ʮ 687 ʯ 688 ʰ 689 ʱ 690 ʲ 691 ʳ 692 ʴ 693 ʵ 694 ʶ 695 ʷ 696 ʸ 697 ʹ 698 ʺ 699 ʻ 700 ʼ 701 ʽ 702 ʾ 703 ʿ 704 ˀ 705 ˁ 706 ˂ 707 ˃ 708 ˄ 709 ˅ 710 ˆ 711 ˇ 712 ˈ 713 ˉ 714 ˊ 715 ˋ 716 ˌ 717 ˍ 718 ˎ 719 ˏ 720 ː 721 ˑ 722 ˒ 723 ˓ 724 ˔ 725 ˕ 726 ˖ 727 ˗ 728 ˘ 729 ˙ 730 ˚ 731 ˛ 732 ˜ 733 ˝ 734 ˞ 735 ˟ 736 ˠ 737 ˡ 738 ˢ 739 ˣ 740 ˤ 741 ˥ 742 ˦ 743 ˧ 744 ˨ 745 ˩ 746 ˪ 747 ˫ 748 ˬ 749 ˭ 750 ˮ 751 ˯ 752 ˰ 753 ˱ 754 ˲ 755 ˳ 756 ˴ 757 ˵ 758 ˶ 759 ˷ 760 ˸ 761 ˹ 762 ˺ 763 ˻ 764 ˼ 765 ˽ 766 ˾ 767 ˿ 768 ̀ 769 ́ 770 ̂ 771 ̃ 772 ̄ 773 ̅ 774 ̆ 775 ̇ 776 ̈ 777 ̉ 778 ̊ 779 ̋ 780 ̌ 781 ̍ 782 ̎ 783 ̏ 784 ̐ 785 ̑ 786 ̒ 787 ̓ 788 ̔ 789 ̕ 790 ̖ 791 ̗ 792 ̘ 793 ̙ 794 ̚ 795 ̛ 796 ̜ 797 ̝ 798 ̞ 799 ̟ 800 ̠ 801 ̡ 802 ̢ 803 ̣ 804 ̤ 805 ̥ 806 ̦ 807 ̧ 808 ̨ 809 ̩ 810 ̪ 811 ̫ 812 ̬ 813 ̭ 814 ̮ 815 ̯ 816 ̰ 817 ̱ 818 ̲ 819 ̳ 820 ̴ 821 ̵ 822 ̶ 823 ̷ 824 ̸ 825 ̹ 826 ̺ 827 ̻ 828 ̼ 829 ̽ 830 ̾ 831 ̿ 832 ̀ 833 ́ 834 ͂ 835 ̓ 836 ̈́ 837 ͅ 838 ͆ 839 ͇ 840 ͈ 841 ͉ 842 ͊ 843 ͋ 844 ͌ 845 ͍ 846 ͎ 847 ͏ 848 ͐ 849 ͑ 850 ͒ 851 ͓ 852 ͔ 853 ͕ 854 ͖ 855 ͗ 856 ͘ 857 ͙ 858 ͚ 859 ͛ 860 ͜ 861 ͝ 862 ͞ 863 ͟ 864 ͠ 865 ͡ 866 ͢ 867 ͣ 868 ͤ 869 ͥ 870 ͦ 871 ͧ 872 ͨ 873 ͩ 874 ͪ 875 ͫ 876 ͬ 877 ͭ 878 ͮ 879 ͯ 880 Ͱ 881 ͱ 882 Ͳ 883 ͳ 884 ʹ 885 ͵ 886 Ͷ 887 ͷ 888 ͸ 889 ͹ 890 ͺ 891 ͻ 892 ͼ 893 ͽ 894 ; 895 Ϳ 896 ΀ 897 ΁ 898 ΂ 899 ΃ 900 ΄ 901 ΅ 902 Ά 903 · 904 Έ 905 Ή 906 Ί 907 ΋ 908 Ό 909 ΍ 910 Ύ 911 Ώ 912 ΐ 913 Α 914 Β 915 Γ 916 Δ 917 Ε 918 Ζ 919 Η 920 Θ 921 Ι 922 Κ 923 Λ 924 Μ 925 Ν 926 Ξ 927 Ο 928 Π 929 Ρ 930 ΢ 931 Σ 932 Τ 933 Υ 934 Φ 935 Χ 936 Ψ 937 Ω 938 Ϊ 939 Ϋ 940 ά 941 έ 942 ή 943 ί 944 ΰ 945 α 946 β 947 γ 948 δ 949 ε 950 ζ 951 η 952 θ 953 ι 954 κ 955 λ 956 μ 957 ν 958 ξ 959 ο 960 π 961 ρ 962 ς 963 σ 964 τ 965 υ 966 φ 967 χ 968 ψ 969 ω 970 ϊ 971 ϋ 972 ό 973 ύ 974 ώ 975 Ϗ 976 ϐ 977 ϑ 978 ϒ 979 ϓ 980 ϔ 981 ϕ 982 ϖ 983 ϗ 984 Ϙ 985 ϙ 986 Ϛ 987 ϛ 988 Ϝ 989 ϝ 990 Ϟ 991 ϟ 992 Ϡ 993 ϡ 994 Ϣ 995 ϣ 996 Ϥ 997 ϥ 998 Ϧ 999 ϧ 1000 Ϩ 1001 ϩ 1002 Ϫ 1003 ϫ 1004 Ϭ 1005 ϭ 1006 Ϯ 1007 ϯ 1008 ϰ 1009 ϱ 1010 ϲ 1011 ϳ 1012 ϴ 1013 ϵ 1014 ϶ 1015 Ϸ 1016 ϸ 1017 Ϲ 1018 Ϻ 1019 ϻ 1020 ϼ 1021 Ͻ 1022 Ͼ 1023 Ͽ 1024 Ѐ 1025 Ё 1026 Ђ 1027 Ѓ 1028 Є 1029 Ѕ 1030 І 1031 Ї 1032 Ј 1033 Љ 1034 Њ 1035 Ћ 1036 Ќ 1037 Ѝ 1038 Ў 1039 Џ 1040 А 1041 Б 1042 В 1043 Г 1044 Д 1045 Е 1046 Ж 1047 З 1048 И 1049 Й 1050 К 1051 Л 1052 М 1053 Н 1054 О 1055 П 1056 Р 1057 С 1058 Т 1059 У 1060 Ф 1061 Х 1062 Ц 1063 Ч 1064 Ш 1065 Щ 1066 Ъ 1067 Ы 1068 Ь 1069 Э 1070 Ю 1071 Я 1072 а 1073 б 1074 в 1075 г 1076 д 1077 е 1078 ж 1079 з 1080 и 1081 й 1082 к 1083 л 1084 м 1085 н 1086 о 1087 п 1088 р 1089 с 1090 т 1091 у 1092 ф 1093 х 1094 ц 1095 ч 1096 ш 1097 щ 1098 ъ 1099 ы 1100 ь 1101 э 1102 ю 1103 я 1104 ѐ 1105 ё 1106 ђ 1107 ѓ 1108 є 1109 ѕ 1110 і 1111 ї 1112 ј 1113 љ 1114 њ 1115 ћ 1116 ќ 1117 ѝ 1118 ў 1119 џ 1120 Ѡ 1121 ѡ 1122 Ѣ 1123 ѣ 1124 Ѥ 1125 ѥ 1126 Ѧ 1127 ѧ 1128 Ѩ 1129 ѩ 1130 Ѫ 1131 ѫ 1132 Ѭ 1133 ѭ 1134 Ѯ 1135 ѯ 1136 Ѱ 1137 ѱ 1138 Ѳ 1139 ѳ 1140 Ѵ 1141 ѵ 1142 Ѷ 1143 ѷ 1144 Ѹ 1145 ѹ 1146 Ѻ 1147 ѻ 1148 Ѽ 1149 ѽ 1150 Ѿ 1151 ѿ 1152 Ҁ 1153 ҁ 1154 ҂ 1155 ҃ 1156 ҄ 1157 ҅ 1158 ҆ 1159 ҇ 1160 ҈ 1161 ҉ 1162 Ҋ 1163 ҋ 1164 Ҍ 1165 ҍ 1166 Ҏ 1167 ҏ 1168 Ґ 1169 ґ 1170 Ғ 1171 ғ 1172 Ҕ 1173 ҕ 1174 Җ 1175 җ 1176 Ҙ 1177 ҙ 1178 Қ 1179 қ 1180 Ҝ 1181 ҝ 1182 Ҟ 1183 ҟ 1184 Ҡ 1185 ҡ 1186 Ң 1187 ң 1188 Ҥ 1189 ҥ 1190 Ҧ 1191 ҧ 1192 Ҩ 1193 ҩ 1194 Ҫ 1195 ҫ 1196 Ҭ 1197 ҭ 1198 Ү 1199 ү "
     ]
    }
   ],
   "source": [
    "for i in range (200,1200):\n",
    "    print(i , chr(i), end =' ')"
   ]
  },
  {
   "cell_type": "markdown",
   "id": "19141508-8b36-46f5-971f-850a3558ad37",
   "metadata": {},
   "source": [
    "## While Loop"
   ]
  },
  {
   "cell_type": "markdown",
   "id": "7cdb747e-bc41-4ace-9f98-4b04b1e32b7c",
   "metadata": {},
   "source": [
    "- FOR loop\n",
    "= while loop : if you want to run an infinte iterations will choose while loop\n",
    "- Every loop we need three things:\n",
    "    - Initial point(start point)\n",
    "    - increment or decrement\n",
    "    - condition(stop point)"
   ]
  },
  {
   "cell_type": "code",
   "execution_count": 166,
   "id": "b35587c7-622a-4981-a4fa-47e5446b85c4",
   "metadata": {},
   "outputs": [
    {
     "name": "stdout",
     "output_type": "stream",
     "text": [
      "1 3 5 7 9 "
     ]
    }
   ],
   "source": [
    "for i in range(1,10,2):\n",
    "    print(i , end= ' ')"
   ]
  },
  {
   "cell_type": "markdown",
   "id": "934cacb9-295c-4c0f-8c83-0cf2c0f1fcc6",
   "metadata": {},
   "source": [
    "- IN for loop all 3 mentioned in single line : range(start, stop ,step)\n",
    "- in while loop we use these 3 things, in as a 3 lines"
   ]
  },
  {
   "cell_type": "code",
   "execution_count": null,
   "id": "14e13e84-897a-4805-a989-518b71a8e052",
   "metadata": {},
   "outputs": [],
   "source": [
    "<start point>\n",
    "while <how to stop>:\n",
    "    codeline1 # infinte no. of lines\n",
    "    codeline2\n",
    "    <increment or decrement>"
   ]
  },
  {
   "cell_type": "code",
   "execution_count": 167,
   "id": "6ba3ec38-ccb6-45d4-b9ec-05b198c72529",
   "metadata": {},
   "outputs": [
    {
     "name": "stdout",
     "output_type": "stream",
     "text": [
      "1 2 3 4 5 6 7 8 9 "
     ]
    }
   ],
   "source": [
    "for i in range(1,10):\n",
    "    print(i , end= ' ')\n",
    "    "
   ]
  },
  {
   "cell_type": "code",
   "execution_count": 169,
   "id": "8e062317-c70c-4ec8-befc-63abcf54041d",
   "metadata": {},
   "outputs": [
    {
     "name": "stdout",
     "output_type": "stream",
     "text": [
      "1 2 3 4 5 6 7 8 9 "
     ]
    }
   ],
   "source": [
    "# start = 1\n",
    "# while <comdition to stop>\n",
    "# i = i+1\n",
    "\n",
    "i = 1\n",
    "while i<10:\n",
    "    print(i, end =' ')      \n",
    "    i = i+1"
   ]
  },
  {
   "cell_type": "code",
   "execution_count": 170,
   "id": "74babf48-8894-4286-a34f-97ea085fcf43",
   "metadata": {},
   "outputs": [
    {
     "name": "stdout",
     "output_type": "stream",
     "text": [
      "1\n"
     ]
    }
   ],
   "source": [
    "i = 1\n",
    "while i<2:\n",
    "    print(i)\n",
    "    i=i+1\n",
    "\n",
    "# step-1: i = 1  while 1<2 == true print(1) i=i+1 i= 1+1=2\n",
    "# step-2: i = 2  while 2<2 == False stop"
   ]
  },
  {
   "cell_type": "code",
   "execution_count": 171,
   "id": "5dfd9dde-9a90-4146-bad7-bc2ac23bdc19",
   "metadata": {},
   "outputs": [],
   "source": [
    "i = 1\n",
    "while i==11: # false\n",
    "    print(i)\n",
    "    i = i+1\n",
    "# step : i =1 while 1==11 false(no answer)    "
   ]
  },
  {
   "cell_type": "code",
   "execution_count": null,
   "id": "b7c8a6fe-41b9-4000-bc89-0c3cec9a7e1f",
   "metadata": {},
   "outputs": [],
   "source": [
    "i = 1\n",
    "while i<11:\n",
    "    print(i)\n",
    "    i=i-1 # infinte loop\n",
    "\n",
    "# step-1: i =1 while 1<11 true print(1) i=i-1=1-1=0\n",
    "# step2: i i=0 while 0<11 true print(0) i=i-1=0-1= -1\n",
    "#step-3: i =-1 while -1<11 true print(-1) i=i-1=-1-1=-2\n",
    "# infinte loop\n"
   ]
  },
  {
   "cell_type": "code",
   "execution_count": 174,
   "id": "7f6522df-4c6d-41e2-9b43-b4ed4748979c",
   "metadata": {},
   "outputs": [
    {
     "name": "stdout",
     "output_type": "stream",
     "text": [
      "1 0 -1 -2 -3 -4 -5 -6 -7 -8 -9 "
     ]
    }
   ],
   "source": [
    "i = 1\n",
    "while i<11:\n",
    "    print(i,end=' ' )\n",
    "    i=i-1 # infinte loop\n",
    "    if i == -10:\n",
    "       \n",
    "        break"
   ]
  },
  {
   "cell_type": "code",
   "execution_count": 178,
   "id": "fbc8ac93-8db6-4ed4-8503-f0c83693ecd3",
   "metadata": {},
   "outputs": [
    {
     "name": "stdout",
     "output_type": "stream",
     "text": [
      "20 19 18 17 16 15 14 13 12 11 10 9 8 7 6 5 4 3 2 1 "
     ]
    }
   ],
   "source": [
    "# 20 to 1\n",
    "#-20 to 0\n",
    "\n",
    "i = 20\n",
    "while i>0:\n",
    "    print(i, end=' ')\n",
    "    i = i-1\n",
    "# step - 1: i=20 ehile 20>0 true print(20) i =20-1=19    \n"
   ]
  },
  {
   "cell_type": "code",
   "execution_count": 180,
   "id": "f7abe80f-aa5d-4157-948d-72e1fb4e0d42",
   "metadata": {},
   "outputs": [
    {
     "name": "stdout",
     "output_type": "stream",
     "text": [
      "0 -1 -2 -3 -4 -5 -6 -7 -8 -9 -10 -11 -12 -13 -14 -15 -16 -17 -18 -19 -20 "
     ]
    }
   ],
   "source": [
    "i = 0\n",
    "while i<21:\n",
    "    print(i, end=' ')\n",
    "    i = i-1\n",
    "    if i == -21:\n",
    "        break\n",
    "# step - 1: i=20 ehile 20>0 true print(20) i =20-1=19    "
   ]
  },
  {
   "cell_type": "code",
   "execution_count": 183,
   "id": "4e3bedc8-f348-4f83-91ae-28d1cfaea8fe",
   "metadata": {},
   "outputs": [
    {
     "name": "stdout",
     "output_type": "stream",
     "text": [
      "-20 -19 -18 -17 -16 -15 -14 -13 -12 -11 -10 -9 -8 -7 -6 -5 -4 -3 -2 -1 0 "
     ]
    }
   ],
   "source": [
    "i = -20\n",
    "while i<1:\n",
    "    print(i, end=' ')\n",
    "    i = i+1\n",
    "# step - 1: i=-20 ehile 20>0 true print(20) i =-20+1= -19    "
   ]
  },
  {
   "cell_type": "markdown",
   "id": "b451f870-023a-41fe-8417-2404bca9d33a",
   "metadata": {},
   "source": [
    "### important\n",
    "- if dont know the valid condition inside the while\n",
    "-  then use **True**\n",
    "-  True will give entry pass to respective of the condition\n",
    "-  But if you want to come out we need apply **if condition** and **break** inside the **whileloop**\n",
    "-  if you dont apply the **break** inside, then it becomes infinte loop"
   ]
  },
  {
   "cell_type": "code",
   "execution_count": 185,
   "id": "49197a23-0ab9-4dcd-aad2-4f014056589c",
   "metadata": {},
   "outputs": [
    {
     "name": "stdout",
     "output_type": "stream",
     "text": [
      "1 2 3 4 5 6 7 8 9 10 "
     ]
    }
   ],
   "source": [
    "i = 1\n",
    "while True:\n",
    "    print(i, end= ' ')\n",
    "    i=i+1\n",
    "    if i == 11:\n",
    "        break"
   ]
  },
  {
   "cell_type": "code",
   "execution_count": 186,
   "id": "3e38b608-d90b-4447-8a10-4d31e89cd7d4",
   "metadata": {},
   "outputs": [
    {
     "name": "stdout",
     "output_type": "stream",
     "text": [
      "1 0 -1 -2 -3 -4 -5 -6 -7 -8 -9 -10 -11 -12 -13 -14 -15 -16 -17 -18 -19 "
     ]
    }
   ],
   "source": [
    "i = 1\n",
    "while True:\n",
    "    print(i, end= ' ')\n",
    "    i=i-1\n",
    "    if i == -20:\n",
    "        break"
   ]
  },
  {
   "cell_type": "code",
   "execution_count": 187,
   "id": "3c46240a-e947-4887-af92-f4551fc46814",
   "metadata": {},
   "outputs": [
    {
     "name": "stdout",
     "output_type": "stream",
     "text": [
      "0 -1 -2 -3 -4 -5 -6 -7 -8 -9 -10 -11 -12 -13 -14 -15 -16 -17 -18 -19 -20 "
     ]
    }
   ],
   "source": [
    "i = 0\n",
    "while True:\n",
    "    print(i, end=' ')\n",
    "    i = i-1\n",
    "    if i == -21:\n",
    "        break"
   ]
  },
  {
   "cell_type": "code",
   "execution_count": 189,
   "id": "4b5e4089-f65d-40be-b268-ab1e567532f9",
   "metadata": {},
   "outputs": [
    {
     "name": "stdout",
     "output_type": "stream",
     "text": [
      "0 -1 -2 -3 -4 -5 -6 -7 -8 -9 -10 -11 -12 -13 -14 -15 -16 -17 -18 -19 -20 "
     ]
    }
   ],
   "source": [
    "i = 0\n",
    "while True:\n",
    "    print(i, end=' ')\n",
    "    i = i-1\n",
    "    if i == -21:\n",
    "        break"
   ]
  },
  {
   "cell_type": "code",
   "execution_count": 192,
   "id": "42a999d5-e6c1-459c-abf3-26bc77399f55",
   "metadata": {},
   "outputs": [
    {
     "name": "stdout",
     "output_type": "stream",
     "text": [
      "-20 -19 -18 -17 -16 -15 -14 -13 -12 -11 -10 -9 -8 -7 -6 -5 -4 -3 -2 -1 0 "
     ]
    }
   ],
   "source": [
    "i = -20\n",
    "while True:\n",
    "    print(i, end=' ')\n",
    "    i = i+1\n",
    "    if i ==1:\n",
    "        break"
   ]
  },
  {
   "cell_type": "code",
   "execution_count": 191,
   "id": "a1331aac-3c9e-46a0-a610-945da805812a",
   "metadata": {},
   "outputs": [
    {
     "name": "stdout",
     "output_type": "stream",
     "text": [
      "-19 -18 -17 -16 -15 -14 -13 -12 -11 -10 -9 -8 -7 -6 -5 -4 -3 -2 -1 0 1 "
     ]
    }
   ],
   "source": [
    "i = -20\n",
    "while i<1:\n",
    "    i = i+1\n",
    "    print(i, end=' ')"
   ]
  },
  {
   "cell_type": "markdown",
   "id": "f97a9ed6-c789-45b3-984e-18feac92e9b3",
   "metadata": {},
   "source": [
    "**For to while**"
   ]
  },
  {
   "cell_type": "code",
   "execution_count": 193,
   "id": "1f6117f5-4f25-4964-a5c3-dae5c3d70296",
   "metadata": {},
   "outputs": [
    {
     "name": "stdout",
     "output_type": "stream",
     "text": [
      " even\n",
      "odd\n",
      " even\n"
     ]
    }
   ],
   "source": [
    "#1Q) For example\n",
    "# take a random number between  1 to 100\n",
    "# print it is a even number and odd number\n",
    "# you need to generate 3 random number\n",
    "\n",
    "\n",
    "for i in range(3):\n",
    "    num = random.randint(1,100)\n",
    "    if i%2==0:\n",
    "        print(\" even\")\n",
    "    else:\n",
    "        print(\"odd\")\n",
    "\n",
    "# i =1 i<3"
   ]
  },
  {
   "cell_type": "code",
   "execution_count": 194,
   "id": "edd22810-14e7-4304-92a1-f5508b950953",
   "metadata": {},
   "outputs": [
    {
     "name": "stdout",
     "output_type": "stream",
     "text": [
      " even\n",
      "odd\n",
      " even\n"
     ]
    }
   ],
   "source": [
    "i=0\n",
    "while i<3:\n",
    "    num = random.randint(1,100)\n",
    "    \n",
    "    if i%2==0:\n",
    "        print(\" even\")\n",
    "    else:\n",
    "        print(\"odd\")\n",
    "    i = i+1    \n"
   ]
  },
  {
   "cell_type": "code",
   "execution_count": 199,
   "id": "63da9bae-eed7-48d0-9f8c-4703774e6eb4",
   "metadata": {},
   "outputs": [
    {
     "name": "stdout",
     "output_type": "stream",
     "text": [
      "10 is even\n",
      "11 is odd\n",
      "12 is even\n",
      "13 is odd\n",
      "14 is even\n",
      "15 is odd\n",
      "16 is even\n",
      "17 is odd\n",
      "18 is even\n",
      "19 is odd\n",
      "20 is even\n"
     ]
    }
   ],
   "source": [
    "#2Q) wap ask the user print the number is even or odd between 10 to 20\n",
    "i = 10\n",
    "while i<21:\n",
    "    \n",
    "    if i%2==0:\n",
    "        print(f\"{i} is even\")\n",
    "    else:\n",
    "        print(f\"{i} is odd\")\n",
    "    i = i+1    \n",
    "    "
   ]
  },
  {
   "cell_type": "code",
   "execution_count": 200,
   "id": "4f30c709-ad6f-4627-86fc-756308306cc8",
   "metadata": {},
   "outputs": [
    {
     "name": "stdout",
     "output_type": "stream",
     "text": [
      "the sqaure of 20 is 400\n",
      "the sqaure of 21 is 441\n",
      "the sqaure of 22 is 484\n",
      "the sqaure of 23 is 529\n",
      "the sqaure of 24 is 576\n",
      "the sqaure of 25 is 625\n"
     ]
    }
   ],
   "source": [
    "#3Q) wap ask the user print the square of the number between\n",
    "# 20 to 25\n",
    "i = 20\n",
    "while i<26:\n",
    "    m = i*i\n",
    "    print(f\"the sqaure of {i} is {m}\")\n",
    "    i = i+1"
   ]
  },
  {
   "cell_type": "code",
   "execution_count": 201,
   "id": "51d6d2b9-aea8-43d9-952f-db113f3429fa",
   "metadata": {},
   "outputs": [
    {
     "name": "stdin",
     "output_type": "stream",
     "text": [
      " 12\n"
     ]
    },
    {
     "name": "stdout",
     "output_type": "stream",
     "text": [
      "squre of 12 is 144\n"
     ]
    },
    {
     "name": "stdin",
     "output_type": "stream",
     "text": [
      " 13\n"
     ]
    },
    {
     "name": "stdout",
     "output_type": "stream",
     "text": [
      "squre of 13 is 169\n"
     ]
    },
    {
     "name": "stdin",
     "output_type": "stream",
     "text": [
      " 14\n"
     ]
    },
    {
     "name": "stdout",
     "output_type": "stream",
     "text": [
      "squre of 14 is 196\n"
     ]
    }
   ],
   "source": [
    "#4Q) WAP ask the user enter number three times find the square of the number\n",
    "# How many times loop should run\n",
    "i=1\n",
    "while i<4:\n",
    "    num = eval(input())\n",
    "    m = num*num\n",
    "    print(f\"squre of {num} is {m}\")\n",
    "    i = i+1\n",
    "    "
   ]
  },
  {
   "cell_type": "code",
   "execution_count": 203,
   "id": "2b2cae7d-b29d-41aa-977f-1ccb5e25b97e",
   "metadata": {},
   "outputs": [
    {
     "name": "stdin",
     "output_type": "stream",
     "text": [
      " 14\n"
     ]
    },
    {
     "name": "stdout",
     "output_type": "stream",
     "text": [
      "14 x 1 = 14\n",
      "14 x 2 = 28\n",
      "14 x 3 = 42\n",
      "14 x 4 = 56\n",
      "14 x 5 = 70\n",
      "14 x 6 = 84\n",
      "14 x 7 = 98\n",
      "14 x 8 = 112\n",
      "14 x 9 = 126\n",
      "14 x 10 = 140\n"
     ]
    }
   ],
   "source": [
    "#5Q) Print the 14th table\n",
    "# ans:   14 x 1 = 14\n",
    "#        14 x 2 = 28\n",
    "#        14 x 3 = 42\n",
    "#\n",
    "#\n",
    "#        14 x10 = 140\n",
    "# How many times 10\n",
    "\n",
    "i=1\n",
    "num = eval(input())\n",
    "while i<11:\n",
    "    \n",
    "    n=num*i\n",
    "    print(f\"{num} x {i} = {n}\")\n",
    "    i =i+1"
   ]
  },
  {
   "cell_type": "code",
   "execution_count": 206,
   "id": "5ea49af7-6cb6-4d4d-a9d6-e18cee8d2d36",
   "metadata": {},
   "outputs": [
    {
     "name": "stdin",
     "output_type": "stream",
     "text": [
      " 75\n"
     ]
    },
    {
     "name": "stdout",
     "output_type": "stream",
     "text": [
      "1 is the fator\n",
      "3 is the fator\n",
      "5 is the fator\n",
      "15 is the fator\n",
      "25 is the fator\n"
     ]
    }
   ],
   "source": [
    "#6 Q) Find the factors of 75\n",
    "# step-1: Iterate the loop = which numbers factor you want\n",
    "# step-2: Apply the if condition\n",
    "#         cond= divide the number with each i\n",
    "\n",
    "i = 1\n",
    "num = eval(input())\n",
    "while i<num:\n",
    "    if num%i==0:\n",
    "        print(f\"{i} is the fator\")\n",
    "    i = i+1   "
   ]
  },
  {
   "cell_type": "code",
   "execution_count": 224,
   "id": "8a9748b3-1610-4c9a-8830-42ad6af1f3e3",
   "metadata": {},
   "outputs": [
    {
     "name": "stdout",
     "output_type": "stream",
     "text": [
      "55\n"
     ]
    }
   ],
   "source": [
    "#7Q) Write the sum of first 10 Natural numbers\n",
    "# 1 to 10\n",
    "# 1+2+3+4+5+6+7+8+9+10=55\n",
    "i = 1\n",
    "s=0\n",
    "while i<11:\n",
    "    s= s+i\n",
    "   \n",
    "    i = i+1\n",
    "print(s)"
   ]
  },
  {
   "cell_type": "code",
   "execution_count": 214,
   "id": "3a29ea07-a7a0-4711-9371-aeb3378a0674",
   "metadata": {},
   "outputs": [
    {
     "name": "stdout",
     "output_type": "stream",
     "text": [
      "55\n"
     ]
    }
   ],
   "source": [
    "s=0\n",
    "for i in range(1,11):\n",
    "    s= s+i\n",
    "print(s)"
   ]
  },
  {
   "cell_type": "code",
   "execution_count": 223,
   "id": "06fd0f47-cc0e-4bf6-8e3b-87f267d6d9ab",
   "metadata": {},
   "outputs": [
    {
     "name": "stdout",
     "output_type": "stream",
     "text": [
      "sum of 10 naturalno.s = 55\n",
      "AVerage =  5.0\n"
     ]
    }
   ],
   "source": [
    "# 8Q) Average first 1 to 10 numbers\n",
    "# avg= summation of all the numbers/total number\n",
    "#Wap to find the average of ' N ' numbers in Python.\n",
    "i = 1\n",
    "sum = 0\n",
    "while i<11:\n",
    "    sum = sum+i\n",
    "    i=i+1\n",
    "print(\"sum of 10 naturalno.s =\",sum)    \n",
    "print(\"AVerage = \",sum/i)\n",
    "    \n"
   ]
  },
  {
   "cell_type": "code",
   "execution_count": null,
   "id": "a5195ec2-f217-4cf0-8a13-4b905894ebe7",
   "metadata": {},
   "outputs": [],
   "source": [
    "#9Q) total no.of divisors of 75\n",
    "count = 0\n",
    "i = 1\n",
    "\n",
    "while i< N+1:\n",
    "    print(i)\n",
    "    i = i+1\n"
   ]
  },
  {
   "cell_type": "code",
   "execution_count": 234,
   "id": "4b0e16ba-84b9-4850-9f19-48e6a1c7135f",
   "metadata": {},
   "outputs": [
    {
     "name": "stdout",
     "output_type": "stream",
     "text": [
      "num1 : 6\n"
     ]
    },
    {
     "name": "stdin",
     "output_type": "stream",
     "text": [
      " enter the num2:  3\n"
     ]
    },
    {
     "name": "stdout",
     "output_type": "stream",
     "text": [
      "lost\n",
      "num1 : 6\n"
     ]
    },
    {
     "name": "stdin",
     "output_type": "stream",
     "text": [
      " enter the num2:  5\n"
     ]
    },
    {
     "name": "stdout",
     "output_type": "stream",
     "text": [
      "lost\n",
      "num1 : 1\n"
     ]
    },
    {
     "name": "stdin",
     "output_type": "stream",
     "text": [
      " enter the num2:  6\n"
     ]
    },
    {
     "name": "stdout",
     "output_type": "stream",
     "text": [
      "lost\n"
     ]
    }
   ],
   "source": [
    "# 10Q)\n",
    "# Get a random number between  1 to 10 :  num1\n",
    "# Ask the user enter a number : num2\n",
    "# if num1 == num2  then print won\n",
    "# else print fail\n",
    "\n",
    "# Give 3 chances\n",
    "\n",
    "# Case-2: whenever you won the code should stop\n",
    "\n",
    "# Case-3:\n",
    "# Suppose i want to give 4 chances\n",
    "# Every time you fail I want to display\n",
    "#      Number of chances left\n",
    "\n",
    "# If all the chances you are used\n",
    "#    Try again after 24 hours\n",
    "\n",
    "# If you are win\n",
    "i = 1\n",
    "while i<4:\n",
    "    num1 = random.randint(1,10)\n",
    "    print(f\"num1 : {num1}\")\n",
    "    num2 = eval(input(\" enter the num2: \"))\n",
    "    if num1==num2:\n",
    "        print(\"won\")\n",
    "    else:\n",
    "        print(\"lost\")\n",
    "    i = i+1   \n",
    "              \n"
   ]
  },
  {
   "cell_type": "code",
   "execution_count": 235,
   "id": "9c4526d2-7035-4b6c-bf8e-261d0ef08996",
   "metadata": {},
   "outputs": [
    {
     "name": "stdout",
     "output_type": "stream",
     "text": [
      "num1 : 5\n"
     ]
    },
    {
     "name": "stdin",
     "output_type": "stream",
     "text": [
      " enter the num2:  4\n"
     ]
    },
    {
     "name": "stdout",
     "output_type": "stream",
     "text": [
      "lost\n",
      "num1 : 6\n"
     ]
    },
    {
     "name": "stdin",
     "output_type": "stream",
     "text": [
      " enter the num2:  5\n"
     ]
    },
    {
     "name": "stdout",
     "output_type": "stream",
     "text": [
      "lost\n",
      "num1 : 5\n"
     ]
    },
    {
     "name": "stdin",
     "output_type": "stream",
     "text": [
      " enter the num2:  6\n"
     ]
    },
    {
     "name": "stdout",
     "output_type": "stream",
     "text": [
      "lost\n"
     ]
    }
   ],
   "source": [
    "# Case-2: whenever you won the code should stop\n",
    "i = 1\n",
    "while i<4:\n",
    "    num1 = random.randint(1,10)\n",
    "    print(f\"num1 : {num1}\")\n",
    "    num2 = eval(input(\" enter the num2: \"))\n",
    "    if num1==num2:\n",
    "        print(\"won\")\n",
    "        break\n",
    "    else:\n",
    "        print(\"lost\")\n",
    "    i = i+1    \n"
   ]
  },
  {
   "cell_type": "code",
   "execution_count": 236,
   "id": "b57c1b94-d657-494f-a1b3-d74909a14319",
   "metadata": {},
   "outputs": [
    {
     "name": "stdout",
     "output_type": "stream",
     "text": [
      "num1 : 1\n"
     ]
    },
    {
     "name": "stdin",
     "output_type": "stream",
     "text": [
      " enter the num2:  4\n"
     ]
    },
    {
     "name": "stdout",
     "output_type": "stream",
     "text": [
      "lost\n",
      " no. of changes left : 3\n",
      "num1 : 9\n"
     ]
    },
    {
     "name": "stdin",
     "output_type": "stream",
     "text": [
      " enter the num2:  3\n"
     ]
    },
    {
     "name": "stdout",
     "output_type": "stream",
     "text": [
      "lost\n",
      " no. of changes left : 2\n",
      "num1 : 3\n"
     ]
    },
    {
     "name": "stdin",
     "output_type": "stream",
     "text": [
      " enter the num2:  4\n"
     ]
    },
    {
     "name": "stdout",
     "output_type": "stream",
     "text": [
      "lost\n",
      " no. of changes left : 1\n",
      "num1 : 7\n"
     ]
    },
    {
     "name": "stdin",
     "output_type": "stream",
     "text": [
      " enter the num2:  5\n"
     ]
    },
    {
     "name": "stdout",
     "output_type": "stream",
     "text": [
      "lost\n",
      " no. of changes left : 0\n",
      "Try after 24hours\n"
     ]
    }
   ],
   "source": [
    "# Case-3:\n",
    "# Suppose i want to give 4 chances\n",
    "# Every time you fail I want to display\n",
    "#      Number of chances left\n",
    "\n",
    "# If all the chances you are used\n",
    "#    Try again after 24 hours\n",
    "\n",
    "# If you are win\n",
    "\n",
    "count=0\n",
    "i = 1\n",
    "while i<5:\n",
    "    num1 = random.randint(1,10)\n",
    "    print(f\"num1 : {num1}\")\n",
    "    num2 = eval(input(\" enter the num2: \"))\n",
    "    if num1==num2:\n",
    "        print(\"won\")\n",
    "        \n",
    "    else:\n",
    "        print(\"lost\")\n",
    "        count = count + 1\n",
    "        print(f\" no. of changes left : {4-count}\")\n",
    "    i = i+1   \n",
    "       \n",
    "\n",
    "if count==4:\n",
    "         print(\"Try after 24hours\")\n",
    "      \n",
    "\n",
    "        \n",
    "\n"
   ]
  },
  {
   "cell_type": "code",
   "execution_count": 238,
   "id": "83dc3aab-1fa3-403e-b197-81d1324d809f",
   "metadata": {},
   "outputs": [
    {
     "name": "stdout",
     "output_type": "stream",
     "text": [
      "93 is odd\n",
      "86 is even\n",
      "5 is odd\n",
      "39 is odd\n",
      "98 is even\n",
      "even_count = 184\n",
      "odd_count = 137\n"
     ]
    }
   ],
   "source": [
    "#11q)# wap ask the user get 5 random numbers\n",
    "# Get it is an even number or odd number\n",
    "# also count how many even numbers are there\n",
    "# and  count how many odd numbers are there\n",
    "import random\n",
    "even_count, odd_count= 0,0\n",
    "i = 1\n",
    "while i<6:\n",
    "    num = random.randint(1,100)\n",
    "    if num%2==0:\n",
    "        print(f\"{num} is even\")\n",
    "        even_count = even_count + num\n",
    "       \n",
    "    else:\n",
    "        print(f\"{num} is odd\")\n",
    "        odd_count = odd_count+num\n",
    "    i=i+1   \n",
    "print(f\"even_count = {even_count}\")\n",
    "print(f\"odd_count = {odd_count}\")\n",
    "        \n"
   ]
  },
  {
   "cell_type": "code",
   "execution_count": 241,
   "id": "60c4050c-9d3d-4256-8d82-a640b6a731ba",
   "metadata": {},
   "outputs": [
    {
     "name": "stdout",
     "output_type": "stream",
     "text": [
      "72 is even\n",
      "52 is even\n",
      "86 is even\n",
      "53 is odd\n",
      "85 is odd\n",
      "even_count = 3\n",
      "odd_count = 2\n",
      "odd_sum = 138\n",
      "even_sum = 210\n"
     ]
    }
   ],
   "source": [
    "#12Q) # wap ask the user get 5 random numbers\n",
    "# Get it is an even number or odd number\n",
    "# also count how many even numbers are there\n",
    "# and  count how many odd numbers are there\n",
    "# I want summ even numbers\n",
    "# I want summ odd numbers\n",
    "import random\n",
    "even_count, odd_count= 0,0\n",
    "even_sum, odd_sum =0,0\n",
    "i =1\n",
    "while i<6:\n",
    "    num = random.randint(1,100)\n",
    "    if num%2==0:\n",
    "        \n",
    "        print(f\"{num} is even\")\n",
    "        even_count = even_count + 1\n",
    "        even_sum = even_sum + num\n",
    "        \n",
    "       \n",
    "    else:\n",
    "        print(f\"{num} is odd\")\n",
    "        odd_count = odd_count+1\n",
    "        odd_sum = odd_sum + num\n",
    "    i = i+1   \n",
    "print(f\"even_count = {even_count}\")\n",
    "print(f\"odd_count = {odd_count}\")\n",
    "print(f\"odd_sum = {odd_sum}\")\n",
    "print(f\"even_sum = {even_sum}\")\n",
    "\n"
   ]
  },
  {
   "cell_type": "code",
   "execution_count": null,
   "id": "62a4d185-3446-4ad1-87e7-89a07e16c553",
   "metadata": {},
   "outputs": [],
   "source": [
    "1e1, 2e1, 3e1"
   ]
  },
  {
   "cell_type": "code",
   "execution_count": null,
   "id": "29af437b-0fc6-4b7b-8fa6-f1d231988320",
   "metadata": {},
   "outputs": [],
   "source": []
  }
 ],
 "metadata": {
  "kernelspec": {
   "display_name": "Python 3 (ipykernel)",
   "language": "python",
   "name": "python3"
  },
  "language_info": {
   "codemirror_mode": {
    "name": "ipython",
    "version": 3
   },
   "file_extension": ".py",
   "mimetype": "text/x-python",
   "name": "python",
   "nbconvert_exporter": "python",
   "pygments_lexer": "ipython3",
   "version": "3.11.7"
  }
 },
 "nbformat": 4,
 "nbformat_minor": 5
}

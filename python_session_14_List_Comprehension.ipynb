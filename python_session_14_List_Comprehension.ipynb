{
 "cells": [
  {
   "cell_type": "markdown",
   "id": "619748b8-5e3b-4049-9a06-ae4a94a02d68",
   "metadata": {},
   "source": [
    "### List Comprehension"
   ]
  },
  {
   "cell_type": "markdown",
   "id": "9c4a0450-9809-429b-8d6e-3ed8898f37d1",
   "metadata": {},
   "source": [
    "- we store output values by using append operations\n",
    "- we are taking empty list\n",
    "- we are iterating through elements from a given list\n",
    "- result we are appending in new list"
   ]
  },
  {
   "cell_type": "code",
   "execution_count": 3,
   "id": "326d7ccb-3a4e-4ff7-9ae5-af8edd6234db",
   "metadata": {},
   "outputs": [
    {
     "data": {
      "text/plain": [
       "[0, 1, 4, 9, 16, 25, 36, 49, 64, 81]"
      ]
     },
     "execution_count": 3,
     "metadata": {},
     "output_type": "execute_result"
    }
   ],
   "source": [
    "# squares of numbers\n",
    "\n",
    "# normal code\n",
    "sq_list = []\n",
    "for i in range(10):\n",
    "    sq_list.append(i*i)\n",
    "sq_list    \n",
    "    "
   ]
  },
  {
   "cell_type": "markdown",
   "id": "07e7807a-130d-43e8-99c3-8287f74b073b",
   "metadata": {},
   "source": [
    "# for loop"
   ]
  },
  {
   "cell_type": "code",
   "execution_count": 6,
   "id": "21750f77-880e-477a-aeeb-4a11e35d9047",
   "metadata": {},
   "outputs": [
    {
     "data": {
      "text/plain": [
       "[0, 1, 4, 9, 16, 25, 36, 49, 64, 81]"
      ]
     },
     "execution_count": 6,
     "metadata": {},
     "output_type": "execute_result"
    }
   ],
   "source": [
    "# list compreh\n",
    "sq_l = []\n",
    "[i*i for i in range(10)]\n",
    "\n"
   ]
  },
  {
   "cell_type": "code",
   "execution_count": 8,
   "id": "140d918b-d431-401b-9f0a-249b8de32d2e",
   "metadata": {},
   "outputs": [
    {
     "data": {
      "text/plain": [
       "['HYD', 'MUMBAI', 'CHENNAI', 'BLR']"
      ]
     },
     "execution_count": 8,
     "metadata": {},
     "output_type": "execute_result"
    }
   ],
   "source": [
    "l1=['hyd','mumbai','chennai','blr']\n",
    "# upper_list= ['Hyd','Mumbai','Chennai','Blr']\n",
    "[i.upper() for i in l1 ]"
   ]
  },
  {
   "cell_type": "code",
   "execution_count": 9,
   "id": "2ceb01e4-e085-4cb1-832a-cd3637a6570e",
   "metadata": {},
   "outputs": [
    {
     "data": {
      "text/plain": [
       "['hyd', 'mumbai', 'chennai', 'blr']"
      ]
     },
     "execution_count": 9,
     "metadata": {},
     "output_type": "execute_result"
    }
   ],
   "source": [
    "l2=['Hyd','Mumbai','Chennai','Blr']\n",
    "# lower_list=['hyd','mumbai','chennai','blr']\n",
    "[i.lower() for i in l2]"
   ]
  },
  {
   "cell_type": "code",
   "execution_count": 11,
   "id": "af23edf4-2452-4642-baeb-72474241c61d",
   "metadata": {},
   "outputs": [
    {
     "name": "stdout",
     "output_type": "stream",
     "text": [
      "0\n",
      "1\n",
      "2\n",
      "3\n"
     ]
    }
   ],
   "source": [
    "# Q4)\n",
    "l2=['Hyd','Mumbai','Chennai','Blr']\n",
    "# sum of the indexes of all elements\n",
    "for i in l2:\n",
    "    print(l2.index(i))\n"
   ]
  },
  {
   "cell_type": "code",
   "execution_count": 14,
   "id": "98d23114-cc59-4b14-819e-d888b3370f2d",
   "metadata": {},
   "outputs": [
    {
     "data": {
      "text/plain": [
       "3"
      ]
     },
     "execution_count": 14,
     "metadata": {},
     "output_type": "execute_result"
    }
   ],
   "source": [
    "l3=[l2.index(i) for i in l2]\n",
    "sum(l3)"
   ]
  },
  {
   "cell_type": "code",
   "execution_count": 13,
   "id": "0ec69217-abfb-411c-8df7-418fd28d0335",
   "metadata": {},
   "outputs": [
    {
     "name": "stdout",
     "output_type": "stream",
     "text": [
      "0\n",
      "1\n",
      "2\n"
     ]
    }
   ],
   "source": [
    "l2 = ['a','b','c']\n",
    "for i in range(len(l2)):\n",
    "    print(i)"
   ]
  },
  {
   "cell_type": "code",
   "execution_count": 18,
   "id": "ac97b522-5ab2-457d-8321-870189b5168b",
   "metadata": {},
   "outputs": [
    {
     "name": "stdout",
     "output_type": "stream",
     "text": [
      "a\n",
      "b\n",
      "c\n"
     ]
    }
   ],
   "source": [
    "for i in l2:\n",
    "    print(i)"
   ]
  },
  {
   "cell_type": "code",
   "execution_count": 20,
   "id": "2b00e23b-9a1d-44c2-9d22-70e6e1511262",
   "metadata": {},
   "outputs": [
    {
     "data": {
      "text/plain": [
       "3"
      ]
     },
     "execution_count": 20,
     "metadata": {},
     "output_type": "execute_result"
    }
   ],
   "source": [
    "sum([l2.index(i) for i in l2])"
   ]
  },
  {
   "cell_type": "markdown",
   "id": "5c882f0e-617a-421e-98cb-c5983428c50c",
   "metadata": {},
   "source": [
    "## for loop - if condition"
   ]
  },
  {
   "cell_type": "code",
   "execution_count": 21,
   "id": "446aaa53-f57f-4918-a079-1e0111b1dbff",
   "metadata": {},
   "outputs": [
    {
     "data": {
      "text/plain": [
       "['Mumbai', 'Chennai']"
      ]
     },
     "execution_count": 21,
     "metadata": {},
     "output_type": "execute_result"
    }
   ],
   "source": [
    "l2=['Hyd','Mumbai','Chennai','Blr']\n",
    "# len>4\n",
    "[i for i in l2 if len(i)>4]"
   ]
  },
  {
   "cell_type": "code",
   "execution_count": 23,
   "id": "24603134-90cb-4d12-8c15-8de06204db77",
   "metadata": {},
   "outputs": [
    {
     "data": {
      "text/plain": [
       "['Mum#bai', 'Chen#nai']"
      ]
     },
     "execution_count": 23,
     "metadata": {},
     "output_type": "execute_result"
    }
   ],
   "source": [
    "# Q3)\n",
    "l1=['Hyd','Mum#bai','Chen#nai','blr']\n",
    "# ans=['Mum#bai'',Chen#nai']\n",
    "# we want lements which are having '#'\n",
    "[i for i in l1 if '#' in i]"
   ]
  },
  {
   "cell_type": "code",
   "execution_count": 25,
   "id": "99000afd-efc9-420e-9b44-2690f529c785",
   "metadata": {},
   "outputs": [
    {
     "data": {
      "text/plain": [
       "['Hyd', 'Mumbai']"
      ]
     },
     "execution_count": 25,
     "metadata": {},
     "output_type": "execute_result"
    }
   ],
   "source": [
    "# Q5)\n",
    "l1=['Hyd','Mumbai','chennai','blr']\n",
    "# ans= ['Hyd','Mumbai']\n",
    "# we want lements which are having first letter capital\n",
    "[i for i in l1 if i==i.title()]"
   ]
  },
  {
   "cell_type": "code",
   "execution_count": 7,
   "id": "f4bafb96-8a2c-42c8-bd94-39f9094fd532",
   "metadata": {},
   "outputs": [
    {
     "name": "stdout",
     "output_type": "stream",
     "text": [
      "['Mum#bai', 'Chen#nai']\n",
      "['Hyd', 'blr']\n"
     ]
    }
   ],
   "source": [
    "#Q6)\n",
    "l1=['Hyd','Mum#bai','Chen#nai','blr']\n",
    "# ans_#=['Mum#bai'',Chen#nai'] for loop and if cond\n",
    "# ans_without_#=['Hyd'','blr']\n",
    "i1=[i for i in l1 if '#' in i]\n",
    "i2 = [i for i in l1 if '#' not in i]\n",
    "print(i1)\n",
    "print(i2)\n"
   ]
  },
  {
   "cell_type": "code",
   "execution_count": 5,
   "id": "ee02d40e-8a43-4c30-b57b-56f62fcf7289",
   "metadata": {},
   "outputs": [
    {
     "data": {
      "text/plain": [
       "['virat.kohli@rcb.com,', 'Rohit.sharma@mi.co,', 'KL.Rahul@lucknow.com']"
      ]
     },
     "execution_count": 5,
     "metadata": {},
     "output_type": "execute_result"
    }
   ],
   "source": [
    "# Q9) \n",
    "str1='virat.kohli@rcb.com, Rohit.sharma@mi.co, KL.Rahul@lucknow.com'\n",
    "# Firstname=[] second name=[] cname =[]\n",
    "# append first name should be in first name list\n",
    "# second name shoul be in second name list\n",
    "# thirs name will be in thirs name list\n",
    "l1 = str1.split()\n",
    "l1\n",
    "\n"
   ]
  },
  {
   "cell_type": "code",
   "execution_count": 6,
   "id": "22caa20b-ba7c-4d60-b010-8f4990f357ea",
   "metadata": {},
   "outputs": [
    {
     "data": {
      "text/plain": [
       "'virat.kohli@rcb.com,'"
      ]
     },
     "execution_count": 6,
     "metadata": {},
     "output_type": "execute_result"
    }
   ],
   "source": [
    "l1[0]"
   ]
  },
  {
   "cell_type": "code",
   "execution_count": 8,
   "id": "d9cab99c-55ba-4cb6-8b17-1efb6f3d0624",
   "metadata": {},
   "outputs": [
    {
     "data": {
      "text/plain": [
       "'virat'"
      ]
     },
     "execution_count": 8,
     "metadata": {},
     "output_type": "execute_result"
    }
   ],
   "source": [
    "first = l[0][:l[0].index('.')]\n",
    "first"
   ]
  },
  {
   "cell_type": "code",
   "execution_count": 16,
   "id": "e603f33b-8c0c-4d4f-bf08-e5312d248b48",
   "metadata": {},
   "outputs": [
    {
     "data": {
      "text/plain": [
       "'rcb'"
      ]
     },
     "execution_count": 16,
     "metadata": {},
     "output_type": "execute_result"
    }
   ],
   "source": [
    "c = l[0][l[0].index('@')+1:l[0].index('.',l[0].index('.')+1)]\n",
    "c\n"
   ]
  },
  {
   "cell_type": "code",
   "execution_count": 18,
   "id": "5f29f3f8-c573-4731-9d54-7a0ced8e1a35",
   "metadata": {},
   "outputs": [
    {
     "data": {
      "text/plain": [
       "'kohli'"
      ]
     },
     "execution_count": 18,
     "metadata": {},
     "output_type": "execute_result"
    }
   ],
   "source": [
    "sec = l[0][l[0].index('.')+1:l[0].index('@')]      \n",
    "sec"
   ]
  },
  {
   "cell_type": "code",
   "execution_count": 29,
   "id": "b570a72d-192a-4608-8b6f-e382277b7c59",
   "metadata": {},
   "outputs": [
    {
     "name": "stdout",
     "output_type": "stream",
     "text": [
      "['virat', 'Rohit', 'KL']\n",
      "['kohli', 'sharma', 'Rahul']\n",
      "['rcb', 'mi', 'lucknow']\n"
     ]
    }
   ],
   "source": [
    "str1='virat.kohli@rcb.com, Rohit.sharma@mi.co, KL.Rahul@lucknow.com'\n",
    "l = str1.split()\n",
    "first = [l[i][:l[i].index('.')] for i in range(len(l))]\n",
    "second = [l[i][l[i].index('.')+1:l[i].index('@')] for i in range(len(l))]\n",
    "c = [l[i][l[i].index('@')+1:l[i].index('.',l[i].index('.')+1)] for i in range(len(l))]\n",
    "print(first)\n",
    "print(second)\n",
    "print(c)\n"
   ]
  },
  {
   "cell_type": "markdown",
   "id": "7d19f05d-acc2-4367-9717-29e003079485",
   "metadata": {},
   "source": [
    "## if-else:"
   ]
  },
  {
   "cell_type": "code",
   "execution_count": null,
   "id": "57120b6b-6274-4f90-b538-9503d9abdcf6",
   "metadata": {},
   "outputs": [],
   "source": [
    "[<if_o/p> <if_cond> <else> <else_o/p> <for>]"
   ]
  },
  {
   "cell_type": "markdown",
   "id": "aaa3fb5c-45c1-4061-b219-10362611ec2f",
   "metadata": {},
   "source": [
    "### even-ood"
   ]
  },
  {
   "cell_type": "code",
   "execution_count": 32,
   "id": "eec55363-5088-460c-add5-5dc6eef4c332",
   "metadata": {},
   "outputs": [
    {
     "data": {
      "text/plain": [
       "(['0 is even', '2 is even', '4 is even', '6 is even', '8 is even'],\n",
       " ['1 is odd', '3 is odd', '5 is odd', '7 is odd', '9 is odd'])"
      ]
     },
     "execution_count": 32,
     "metadata": {},
     "output_type": "execute_result"
    }
   ],
   "source": [
    "even=[]\n",
    "odd = []\n",
    "for i in range(10):\n",
    "    if i%2==0:\n",
    "        even.append(f\"{i} is even\")\n",
    "    else:\n",
    "        odd.append(f\"{i} is odd\")\n",
    "even,odd        "
   ]
  },
  {
   "cell_type": "code",
   "execution_count": 33,
   "id": "91e256f3-4c37-44ef-b1e1-1083b2c9836d",
   "metadata": {},
   "outputs": [
    {
     "data": {
      "text/plain": [
       "['0 is even',\n",
       " '1 is odd',\n",
       " '2 is even',\n",
       " '3 is odd',\n",
       " '4 is even',\n",
       " '5 is odd',\n",
       " '6 is even',\n",
       " '7 is odd',\n",
       " '8 is even',\n",
       " '9 is odd']"
      ]
     },
     "execution_count": 33,
     "metadata": {},
     "output_type": "execute_result"
    }
   ],
   "source": [
    "[f\"{i} is even\" if i%2==0 else f\"{i} is odd\" for i in range(10)]"
   ]
  },
  {
   "cell_type": "markdown",
   "id": "fb7cf01c-132f-4db4-af0e-9369d115eee9",
   "metadata": {},
   "source": [
    "## reduce"
   ]
  },
  {
   "cell_type": "markdown",
   "id": "3eb88939-21be-4982-8ba4-88ec4c845c53",
   "metadata": {},
   "source": [
    "- reduce is used for the sumoperations \n",
    "- max, min, len, sum\n",
    "- for all above reduce is used\n",
    "- reduce is from functools package\n",
    "- import the functools\n",
    "- import reduce from functools "
   ]
  },
  {
   "cell_type": "code",
   "execution_count": 36,
   "id": "6af500ba-81f9-48f9-9010-a8401c973cf4",
   "metadata": {},
   "outputs": [
    {
     "ename": "ModuleNotFoundError",
     "evalue": "No module named 'ft'",
     "output_type": "error",
     "traceback": [
      "\u001b[1;31m---------------------------------------------------------------------------\u001b[0m",
      "\u001b[1;31mModuleNotFoundError\u001b[0m                       Traceback (most recent call last)",
      "Cell \u001b[1;32mIn[36], line 2\u001b[0m\n\u001b[0;32m      1\u001b[0m \u001b[38;5;28;01mimport\u001b[39;00m \u001b[38;5;21;01mfunctools\u001b[39;00m \u001b[38;5;28;01mas\u001b[39;00m \u001b[38;5;21;01mft\u001b[39;00m\n\u001b[1;32m----> 2\u001b[0m \u001b[38;5;28;01mfrom\u001b[39;00m \u001b[38;5;21;01mft\u001b[39;00m \u001b[38;5;28;01mimport\u001b[39;00m reduce\n",
      "\u001b[1;31mModuleNotFoundError\u001b[0m: No module named 'ft'"
     ]
    }
   ],
   "source": [
    "import functools as ft\n",
    "from ft import reduce"
   ]
  },
  {
   "cell_type": "code",
   "execution_count": 37,
   "id": "047a0e0f-7f4e-456c-8faf-ab3d9c0f827f",
   "metadata": {},
   "outputs": [],
   "source": [
    "import functools"
   ]
  },
  {
   "cell_type": "code",
   "execution_count": 38,
   "id": "74b66a4a-1bb5-468a-b79a-43b476d73cee",
   "metadata": {},
   "outputs": [],
   "source": [
    "import functools as ft"
   ]
  },
  {
   "cell_type": "code",
   "execution_count": 40,
   "id": "1bbb0cb7-e5bf-4579-8e34-9db9c6d0fd4f",
   "metadata": {},
   "outputs": [],
   "source": [
    "from functools import reduce"
   ]
  },
  {
   "cell_type": "code",
   "execution_count": 47,
   "id": "2bb06ba5-278e-4883-ad47-7ff91971a105",
   "metadata": {},
   "outputs": [
    {
     "data": {
      "text/plain": [
       "10"
      ]
     },
     "execution_count": 47,
     "metadata": {},
     "output_type": "execute_result"
    }
   ],
   "source": [
    "##sum of list of nums\n",
    "l1 = [1,2,3,4]\n",
    "ft.reduce(lambda summ,i : summ+i,l1  )"
   ]
  },
  {
   "cell_type": "code",
   "execution_count": null,
   "id": "12d6b249-f470-4285-8fca-5f161ad835c2",
   "metadata": {},
   "outputs": [],
   "source": []
  }
 ],
 "metadata": {
  "kernelspec": {
   "display_name": "Python 3 (ipykernel)",
   "language": "python",
   "name": "python3"
  },
  "language_info": {
   "codemirror_mode": {
    "name": "ipython",
    "version": 3
   },
   "file_extension": ".py",
   "mimetype": "text/x-python",
   "name": "python",
   "nbconvert_exporter": "python",
   "pygments_lexer": "ipython3",
   "version": "3.11.7"
  }
 },
 "nbformat": 4,
 "nbformat_minor": 5
}
